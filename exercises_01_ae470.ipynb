{
 "cells": [
  {
   "cell_type": "code",
   "execution_count": null,
   "id": "b82ac644-f99d-4d5f-b17f-6719c80da6a2",
   "metadata": {},
   "outputs": [],
   "source": [
    "# Configure Jupyter so figures appear in the notebook\n",
    "%matplotlib inline\n",
    "\n",
    "# Configure Jupyter to display the assigned value after an assignment\n",
    "%config InteractiveShell.ast_node_interactivity='last_expr_or_assign'\n",
    "\n"
   ]
  },
  {
   "cell_type": "code",
   "execution_count": null,
   "id": "6adf2d11-6402-49dd-ae49-023a9491876e",
   "metadata": {},
   "outputs": [],
   "source": [
    "try:\n",
    "    from modsim import *\n",
    "except ImportError:\n",
    "    print(\"Download modsim from the course repository at https://github.com/jeffwalton/AE470\")"
   ]
  },
  {
   "cell_type": "code",
   "execution_count": null,
   "id": "cdd56cbe-cc11-4bb1-9e5e-5d9f92ff5a63",
   "metadata": {},
   "outputs": [],
   "source": [
    "import numpy as np"
   ]
  },
  {
   "cell_type": "markdown",
   "id": "50aea7eb-817d-4619-b695-da0059bf79c6",
   "metadata": {},
   "source": [
    "# AE 470 - Exercises 1\n"
   ]
  },
  {
   "cell_type": "markdown",
   "id": "fd109e06-306d-4986-a142-0460ad5ef14b",
   "metadata": {},
   "source": [
    "### 1. BMW, page 16\n",
    "\n",
    "In an inertial coordinate system, the position and velocity vectors of a satellite are, respectively, $( 1.2756\\hat{i} + 1.9135\\hat{j} + 3.1891\\hat{k} ) 10^4 \\, \\mathrm{km} $ and $( 7.9053\\hat{i} + 15.8106\\hat{j} )  \\, \\mathrm{km/s} $, where $ \\hat{i} $, $ \\hat{j} $, and $ \\hat{k} $ are unit vectors. \n",
    "\n",
    "Determine the specific mechanical energy, $ \\mathcal{E} $, and the specific angular momentum, $ \\vec{\\mathbf{h}} $.  Also find the flight path angle, $ \\phi $."
   ]
  },
  {
   "cell_type": "code",
   "execution_count": null,
   "id": "05634792-92ae-47fe-812e-952fdb564d75",
   "metadata": {},
   "outputs": [],
   "source": [
    "r_vec = Vector(1.2756e4, 1.9135e4, 3.1891e4)\n",
    "r = vector_mag(r_vec)\n",
    "v_vec = ( 7.9053, 15.8106, 0 )\n",
    "v = vector_mag(v_vec)\n",
    "print(r, v)"
   ]
  },
  {
   "cell_type": "code",
   "execution_count": null,
   "id": "49108769-119e-4f57-915c-11da9f67e354",
   "metadata": {},
   "outputs": [],
   "source": [
    "h_vec = vector_cross(r_vec, v_vec)"
   ]
  },
  {
   "cell_type": "code",
   "execution_count": null,
   "id": "91e127a1-12f0-477f-ba46-a4c9921e4175",
   "metadata": {},
   "outputs": [],
   "source": [
    "mu_earth = 3.986000e+5   # earth, km^3/s^2"
   ]
  },
  {
   "cell_type": "code",
   "execution_count": null,
   "id": "105b7317-3359-4269-9b27-44a04cc4a533",
   "metadata": {},
   "outputs": [],
   "source": [
    "E = (v**2 / 2) - (mu_earth / r)"
   ]
  },
  {
   "cell_type": "code",
   "execution_count": null,
   "id": "5dce4b82-acd4-4dda-a083-39d140d2a776",
   "metadata": {},
   "outputs": [],
   "source": [
    "h = vector_mag(h_vec)\n",
    "phi = np.arccos(h/(r*v))\n",
    "phi_deg = phi * 180 / np.pi "
   ]
  },
  {
   "cell_type": "code",
   "execution_count": null,
   "id": "6cfc2659-63bd-4014-8043-8687b3ff944f",
   "metadata": {},
   "outputs": [],
   "source": []
  },
  {
   "cell_type": "markdown",
   "id": "f6c62a1f-455d-482c-a21d-e10438df8d44",
   "metadata": {},
   "source": [
    "### 2. BMW, page 24\n",
    "\n",
    "For a given satellite, $ \\mathcal{E} = -20.0 \\, \\mathrm{km}^2/\\mathrm{s}^2 $ and $ e = 0.2 $.  Determine its specific angular momentum, semi-latus rectum and semi-major axis.\n"
   ]
  },
  {
   "cell_type": "code",
   "execution_count": null,
   "id": "d62118a3-125d-4d77-be52-3076121e5c26",
   "metadata": {},
   "outputs": [],
   "source": [
    "E = "
   ]
  },
  {
   "cell_type": "code",
   "execution_count": null,
   "id": "2a32e875-71a7-47ab-a2bf-94e884b26bfd",
   "metadata": {},
   "outputs": [],
   "source": []
  },
  {
   "cell_type": "markdown",
   "id": "76124fac-7c47-42f6-9bb4-91cee3fd4786",
   "metadata": {},
   "source": [
    "### 3. BMW, page 25\n",
    "\n",
    "A radar tracking station tells us that a certain decaying  weather satellite has $ e = 0.1 $ and perigee altitude $ = 400\\, \\mathrm{km} $.  Determine its altitude at apogee, specific mechanical energy and specific angular momentum.\n",
    "\n",
    "$ r_{\\oplus} = 6378.137 \\, \\mathrm{km} $\n"
   ]
  },
  {
   "cell_type": "code",
   "execution_count": null,
   "id": "30c05b87-8a37-42b4-a8a8-8f571af8715c",
   "metadata": {},
   "outputs": [],
   "source": []
  },
  {
   "cell_type": "code",
   "execution_count": null,
   "id": "bbbc2c98-a0dc-4cac-9f7a-225190f50607",
   "metadata": {},
   "outputs": [],
   "source": []
  },
  {
   "cell_type": "markdown",
   "id": "70a949c0-19e5-4008-8531-872611456443",
   "metadata": {},
   "source": [
    "### 4. BMW, page 30\n",
    "\n",
    "A spsce probe is to be launched on an escape trajectory from a circular parking orbitthat is at an altitude of 200 km above Earth. Calculate the minimum escape speed required to escape from the parking orbit altitude.  (ignore the gravitational forces of the sun and other planets.) "
   ]
  },
  {
   "cell_type": "code",
   "execution_count": null,
   "id": "833c49f2-fb4b-4ebb-a22d-94ce9b2928bf",
   "metadata": {},
   "outputs": [],
   "source": []
  },
  {
   "cell_type": "code",
   "execution_count": null,
   "id": "c27508d1-6257-4f86-bf0b-bbfc43133fb1",
   "metadata": {},
   "outputs": [],
   "source": []
  },
  {
   "cell_type": "markdown",
   "id": "1e2d84b6-7c38-4f6c-ab86-8b3d3575b38e",
   "metadata": {},
   "source": [
    "### 4. BMW, page 36, Exercise 1.2\n",
    "\n",
    "For a certain satellite the observed velocity and radius at $ \\theta = 90^\\circ $ are observed to be 13.716 km/s and 7,408 km, respectively.  Find the eccentricity of the orbit. (Answer: $ e = 1.581 $)"
   ]
  },
  {
   "cell_type": "code",
   "execution_count": null,
   "id": "2285ec5a-ced6-4605-9bc6-7cf0d4155619",
   "metadata": {},
   "outputs": [],
   "source": []
  },
  {
   "cell_type": "code",
   "execution_count": null,
   "id": "a3d26faa-b487-4269-a0f4-8cdb4e489a58",
   "metadata": {},
   "outputs": [],
   "source": []
  },
  {
   "cell_type": "markdown",
   "id": "ab30e537-9f76-468c-ab9e-49a729851410",
   "metadata": {},
   "source": [
    "### 5. BMW, page 36, Exercise 1.3\n",
    "\n",
    "An Earth satellite is observed to have a height of perigee 185.2 km and a height of apogee of 1,112 km.  Find the period of the orbit.\n"
   ]
  },
  {
   "cell_type": "code",
   "execution_count": null,
   "id": "a9ed6c87-5338-44cf-9561-edbf6eaa029c",
   "metadata": {},
   "outputs": [],
   "source": []
  },
  {
   "cell_type": "code",
   "execution_count": null,
   "id": "e0eec1ad-d58c-4b32-af68-23758505cb53",
   "metadata": {},
   "outputs": [],
   "source": []
  },
  {
   "cell_type": "markdown",
   "id": "81ca2ad1-fea8-418e-8d5a-bedaa33489c3",
   "metadata": {},
   "source": [
    "## 6. BMW, page 36, Exercise 1.5\n",
    "\n",
    "For a certain Earth satellite, it is known that the semi-major axis, $ a $, is 9,144 km. The orbit eccentricity is 0.2.\n",
    "\n",
    "  1. Find its perigee and apogee distances from the center of the Earth.\n",
    "  2. Find the specific energy of the trajectory.\n",
    "  3. Find the semi-latus rectum or parameter ($ p $) of the orbit.\n",
    "  4. Find the length of the position vector at a true amomaly of $ 135^{\\circ} $.\n",
    "  (Answer: $r = 10,223 \\, \\mathrm{km}$)"
   ]
  },
  {
   "cell_type": "code",
   "execution_count": null,
   "id": "89d413a6-092a-4a71-81eb-d2406db7a7f1",
   "metadata": {},
   "outputs": [],
   "source": []
  },
  {
   "cell_type": "code",
   "execution_count": null,
   "id": "b2db8581-8a6c-448d-84fb-7ff435b136ca",
   "metadata": {},
   "outputs": [],
   "source": []
  },
  {
   "cell_type": "markdown",
   "id": "5b9feb8c-eea6-47ab-b964-45d91def54b2",
   "metadata": {},
   "source": [
    "## 7. BMW, page 37, Exercise 1.14\n",
    "\n",
    "Given the equation $ r  = \\frac{p}{1 + e \\cos{\\theta}} $ plot the conic sections:\n",
    "  1. $ p = 2 $, $ e = 0 $\n",
    "  2. $ p = 6 $, $ e = 0.2 $\n",
    "  3. $ p = 6 $, $ e = 0.6 $\n",
    "  4. $ p = 3 $, $ e = 1 $\n",
    "  5. $ p = 2 $, $ e = 2 $\n"
   ]
  },
  {
   "cell_type": "code",
   "execution_count": null,
   "id": "64933a41-4923-4695-95d2-d7a1bfc66cbb",
   "metadata": {},
   "outputs": [],
   "source": [
    "import numpy as np\n",
    "import pandas as pd\n",
    "import matplotlib.pyplot as plt\n"
   ]
  },
  {
   "cell_type": "code",
   "execution_count": null,
   "id": "ffe81341-7ab3-46eb-be70-c067133cd516",
   "metadata": {},
   "outputs": [],
   "source": [
    "p_array = np.array([2, 6, 6, 3, 2])\n",
    "e_array = np.array([0, 0.2, 0.6, 1, 2])"
   ]
  },
  {
   "cell_type": "code",
   "execution_count": null,
   "id": "e5774dec-a1b0-4360-abd4-60ef05d9319a",
   "metadata": {},
   "outputs": [],
   "source": [
    "theta_array = np.linspace(-3*np.pi/4, 3*np.pi/4, 100)\n",
    "\n",
    "for i in range(0,5):\n",
    "    p = p_array[i]\n",
    "    e = e_array[i]\n",
    "    print(p,e)\n",
    "    one_orbit = pd.DataFrame(columns=['r', 'x', 'y'], index=theta_array)\n",
    "    for theta in theta_array:\n",
    "        r = p / (1 + e*np.cos(theta))\n",
    "        one_orbit.loc[theta,'r'] = r\n",
    "        one_orbit.loc[theta,'x'] = r * np.cos(theta)\n",
    "        one_orbit.loc[theta,'y'] = r * np.sin(theta)\n",
    "    plt.plot(one_orbit.x, one_orbit.y, label=f'eccentricity = {e:.2f}')\n",
    "\n",
    "plt.plot(0,0,0, marker='o')\n",
    "plt.gca().set_aspect('equal')\n",
    "decorate(xlabel='x', ylabel='y', title='')"
   ]
  },
  {
   "cell_type": "code",
   "execution_count": null,
   "id": "b80e8421-9f07-4a88-a753-25e83174ca35",
   "metadata": {},
   "outputs": [],
   "source": []
  },
  {
   "cell_type": "code",
   "execution_count": null,
   "id": "3247321b-6408-4aad-bdf2-cde71485bb94",
   "metadata": {},
   "outputs": [],
   "source": []
  },
  {
   "cell_type": "code",
   "execution_count": null,
   "id": "ae4c59d4-ce95-4b65-8e02-2c8ef3c80699",
   "metadata": {},
   "outputs": [],
   "source": []
  },
  {
   "cell_type": "code",
   "execution_count": null,
   "id": "8c5cd8dc-55bd-4c68-a82d-5d6f8d5e59b2",
   "metadata": {},
   "outputs": [],
   "source": []
  },
  {
   "cell_type": "code",
   "execution_count": null,
   "id": "0f0c7caa-e076-4d7a-8359-497a40e8b390",
   "metadata": {},
   "outputs": [],
   "source": []
  },
  {
   "cell_type": "markdown",
   "id": "6142efad-0dae-47a0-8d34-228e70126113",
   "metadata": {},
   "source": [
    "## 8. BMW, page 38, Exercise 1.16\n",
    "\n",
    "A satellite is injected into an elliptical orbit with a semi-major axis equal to $ 25,513 \\, \\mathrm{km} $.  When it is precisely at then end of the semi-minor axis, it receives an impulsive velocity change just sufficient to place it into an escape trajectory.  What is the magnitude of the velocity change?"
   ]
  },
  {
   "cell_type": "code",
   "execution_count": null,
   "id": "67cd9e59-01d8-4bf5-b671-97e11c698eda",
   "metadata": {},
   "outputs": [],
   "source": []
  },
  {
   "cell_type": "code",
   "execution_count": null,
   "id": "b9799b5d-9ea9-430d-ba64-ce6180b504f9",
   "metadata": {},
   "outputs": [],
   "source": []
  },
  {
   "cell_type": "markdown",
   "id": "2de9e556-4923-4611-9f3d-4d32ac82ed3b",
   "metadata": {},
   "source": [
    "## 9. BMW, page 39, Exercise 1.22\n",
    "\n",
    "A space vehicle destined for Mars was first launched into a 200km circular parking orbit.\n",
    "  1. What was the speed of the vehicle at injection into its parking orbit?\n",
    "     The vehicle coasted into orbit for a period of time to allow system checks to be made and then was restarted to increase its velocity to 11.386 km/s which placed it on an interplanetary trajectory toward Mars.\n",
    "  2. Find $ e $, $ h $ and $ \\mathcal{E} $ relative to Earth for the escape orbit. What kind of orbit is it?\n",
    "  3. Compare the velocity at 2,000,000 km from Earth with the hyperbolic excess velocity, $ v_{\\infty} $. Why are the two so nearly alike?"
   ]
  },
  {
   "cell_type": "code",
   "execution_count": null,
   "id": "ac3dd84c-e5ed-44f6-a916-8e85aec82f65",
   "metadata": {},
   "outputs": [],
   "source": []
  },
  {
   "cell_type": "code",
   "execution_count": null,
   "id": "9f97be6e-37b0-41d7-b432-3e69a0e8b718",
   "metadata": {},
   "outputs": [],
   "source": []
  },
  {
   "cell_type": "markdown",
   "id": "c1d5b414-a4f3-406f-a8f2-d81c868f7c01",
   "metadata": {},
   "source": [
    "## 10. Curtis, page 77, Example 2.4\n",
    "\n",
    "Plot the speed $ v $ and period $ T $ of a satellite in a curcular LEO as a function of altitude $ z $.\n",
    "\n",
    "LEO has altitude between about 150 km and about 2000 km."
   ]
  },
  {
   "cell_type": "code",
   "execution_count": null,
   "id": "2bc3c000-e6db-4bff-9345-73c7d4ef86e7",
   "metadata": {},
   "outputs": [],
   "source": []
  },
  {
   "cell_type": "code",
   "execution_count": null,
   "id": "d575da67-9b0e-40fd-8224-eba8a322f10a",
   "metadata": {},
   "outputs": [],
   "source": []
  },
  {
   "cell_type": "markdown",
   "id": "27410c80-d352-4110-ae0b-86213936b2cd",
   "metadata": {},
   "source": [
    "## 11. Curtis, page 78, Example 2.5\n",
    "\n",
    "Calculate the altitude $ z_{GEO} $ and the speed $ v_{GEO} $of a geostationary earth satellite."
   ]
  },
  {
   "cell_type": "code",
   "execution_count": null,
   "id": "c900e960-8a54-4327-b013-600acf25e3b2",
   "metadata": {},
   "outputs": [],
   "source": []
  },
  {
   "cell_type": "code",
   "execution_count": null,
   "id": "92ac1488-5dd3-4ef2-a609-1cca530393b7",
   "metadata": {},
   "outputs": [],
   "source": []
  },
  {
   "cell_type": "markdown",
   "id": "0d69219c-732b-4e89-a7bf-d480b578a661",
   "metadata": {},
   "source": [
    "## 12. Curtis, page 86, Example 2.7\n",
    "\n",
    "An earth satellite is in an orbit with a perigee altitude $ z_{p} = 400 \\, \\mathrm{km} $ and an apogee altitude $ z_{a} = 4000 \\, \\mathrm{km} $.\n",
    "\n",
    "Find each of the following quantities:\n",
    "  1. eccentricity, $ e $\n",
    "  2. angular momentum, $ h $\n",
    "  3. perigee velocity, $ v_{p} $\n",
    "  4. apogee velocity, $ v_{a} $\n",
    "  5. semi-major axis, $ a $\n",
    "  6. period of the orbit, $ T $\n",
    "  7. true anomaly when $ r = \\bar{r}_{\\theta} = \\sqrt{r_{p} r_{a}} $\n",
    "  8. satellite speed when $ r = \\bar{r}_{\\theta} = \\sqrt{r_{p} r_{a}} $"
   ]
  },
  {
   "cell_type": "code",
   "execution_count": null,
   "id": "f6edfb99-d6ab-443f-8c61-a3becb265e8d",
   "metadata": {},
   "outputs": [],
   "source": []
  },
  {
   "cell_type": "code",
   "execution_count": null,
   "id": "3652c273-3f34-4d18-a392-766bbd3d7144",
   "metadata": {},
   "outputs": [],
   "source": []
  },
  {
   "cell_type": "markdown",
   "id": "a872e048-cd63-4281-9184-8986a6acd38d",
   "metadata": {},
   "source": [
    "## 13. Curtis, page 89, Example 2.8\n",
    "\n",
    "At two points on a geocentric orbit, altitud and true anamoly are $ z_1 = 1545 \\, \\mathrm{km} $, $ \\theta_1 = 126^{\\circ} $ and $ z_2 = 852 \\, \\mathrm{km} $, $ \\theta_2 = 58^{\\circ} $, respectively. Find the (a) eccentricity, (b) the altitude of perigee, (c) the semi-major axis, and (d) the period."
   ]
  },
  {
   "cell_type": "code",
   "execution_count": null,
   "id": "ac4fbb7a-da72-4220-bb71-1830e4235755",
   "metadata": {},
   "outputs": [],
   "source": []
  },
  {
   "cell_type": "code",
   "execution_count": null,
   "id": "dcd90881-75cc-4c0a-9ab7-5639861f7fce",
   "metadata": {},
   "outputs": [],
   "source": []
  },
  {
   "cell_type": "markdown",
   "id": "6b6f14a7-9054-49c7-84f7-325d0937380d",
   "metadata": {},
   "source": [
    "## 14. Curtis, page 104, Example 2.11\n",
    "\n",
    "An earth orbit has an eccentricity of 0.3, an angular momentum of $ 60,000 km^2/s $, and a true anamoly of $ 120^{\\circ} $.  What are the position vector $ \\vec{\\mathbf{r}} $ and velocity vector $ \\vec{\\mathbf{v}} $ in the perifocal frame of reference?"
   ]
  },
  {
   "cell_type": "code",
   "execution_count": null,
   "id": "1594271b-b0cd-404c-b3db-42f05f6c4398",
   "metadata": {},
   "outputs": [],
   "source": []
  },
  {
   "cell_type": "code",
   "execution_count": null,
   "id": "04ba03cc-b728-4a2b-ae27-288a11f7d0a7",
   "metadata": {},
   "outputs": [],
   "source": []
  },
  {
   "cell_type": "markdown",
   "id": "99040ba8-d6a8-472a-9363-1018b9db71c8",
   "metadata": {},
   "source": [
    "## 15. Curtis, page 104, Example 2.12\n",
    "\n",
    "An earth satellite has the following position and velocity vectors at a given instant:\n",
    "\n",
    "$ \\vec{\\mathbf{r}} = 7000 \\hat{p} + 9000 \\hat{q} \\; (\\mathrm{km}) $\n",
    "\n",
    "$ \\vec{\\mathbf{v}} = -3.3472 \\hat{p} + 9.1251 \\hat{q} \\; (\\mathrm{km/s}) $\n",
    "\n",
    "Calculate the specific angular momentum $ h $, the true anamoly $ \\theta $, and the eccentricity $ e $."
   ]
  },
  {
   "cell_type": "code",
   "execution_count": null,
   "id": "b6437360-2b24-4e9a-8c72-90033ef3831c",
   "metadata": {},
   "outputs": [],
   "source": []
  },
  {
   "cell_type": "code",
   "execution_count": null,
   "id": "6c7915f1-6220-4875-9b94-f36acfce64ee",
   "metadata": {},
   "outputs": [],
   "source": []
  },
  {
   "cell_type": "code",
   "execution_count": null,
   "id": "7a88b852-722d-4b3e-b7aa-b9ee8426cc97",
   "metadata": {},
   "outputs": [],
   "source": []
  }
 ],
 "metadata": {
  "kernelspec": {
   "display_name": "Python 3 (ipykernel)",
   "language": "python",
   "name": "python3"
  },
  "language_info": {
   "codemirror_mode": {
    "name": "ipython",
    "version": 3
   },
   "file_extension": ".py",
   "mimetype": "text/x-python",
   "name": "python",
   "nbconvert_exporter": "python",
   "pygments_lexer": "ipython3",
   "version": "3.11.5"
  }
 },
 "nbformat": 4,
 "nbformat_minor": 5
}
