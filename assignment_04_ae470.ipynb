{
 "cells": [
  {
   "cell_type": "markdown",
   "id": "50aea7eb-817d-4619-b695-da0059bf79c6",
   "metadata": {},
   "source": [
    "#### AE 470 - Assignment 4\n",
    "## Due Friday, April 5, 2024 at 12:00 noon)\n",
    "\n",
    "Submit your solutions in the this Jupyter notebook.  Email the notebook file to me at [jwalton@clarkson.edu](jwalton@clarkson.edu) or submit it through Moodle.\n"
   ]
  },
  {
   "cell_type": "code",
   "execution_count": null,
   "id": "833c49f2-fb4b-4ebb-a22d-94ce9b2928bf",
   "metadata": {},
   "outputs": [],
   "source": [
    "# Put your name here\n",
    "\n",
    "# Add your collaborators names here\n"
   ]
  },
  {
   "cell_type": "code",
   "execution_count": null,
   "id": "a3d26faa-b487-4269-a0f4-8cdb4e489a58",
   "metadata": {},
   "outputs": [],
   "source": [
    "# Configure Jupyter so figures appear in the notebook\n",
    "%matplotlib inline\n",
    "\n",
    "# Configure Jupyter to display the assigned value after an assignment\n",
    "%config InteractiveShell.ast_node_interactivity='last_expr_or_assign'"
   ]
  },
  {
   "cell_type": "markdown",
   "id": "6343bc87",
   "metadata": {},
   "source": [
    "## 1. \n",
    "\n",
    "Roscosmos has placed a space debris capturing satellite in the same orbit about the Earth as a large defunct satellite. The orbit is specified by: 𝑒=0.2 and 𝑎=10,000 km, and at the present time the capturing satellite and the defunct satellite have true anomalies: 𝜃1=45° and 𝜃2=90°, respectively. Determine the Δ𝑣 that the capturing satellite must apply at periapsis to catch the defunct satellite in a single tangential maneuver. Note Earth’s gravitational parameter: 𝜇⊕=3.986×10^5 km^3/s^2. "
   ]
  },
  {
   "cell_type": "markdown",
   "id": "ea075d35-f88e-4b06-a760-b399cbaf0e6b",
   "metadata": {},
   "source": [
    "![assignment04_1](images/assignment04_1.png)"
   ]
  },
  {
   "cell_type": "code",
   "execution_count": null,
   "id": "a4d37e49",
   "metadata": {},
   "outputs": [],
   "source": []
  },
  {
   "cell_type": "code",
   "execution_count": null,
   "id": "838a5a36",
   "metadata": {},
   "outputs": [],
   "source": []
  },
  {
   "cell_type": "markdown",
   "id": "4b96f41d-ccd3-41d5-8b54-e21f4b6aa20f",
   "metadata": {},
   "source": [
    "## 2. "
   ]
  },
  {
   "cell_type": "markdown",
   "id": "50030d91-9cd5-4604-ac2d-471e582ce622",
   "metadata": {},
   "source": [
    "As part of a concept study for NASA’s CubeSat UV Experiment (CUVE), which is a proposed mission to study atmospheric processes at Venus, you have been asked to analyze the interplanetary Hohmann transfer from Earth to Venus. You may assume that Earth and Venus are in circular, coplanar orbits.\n",
    "\r\n",
    "The mothership carrying CUVE will start in a circular parking orbit about the Earth with a radius of 100,000 km and it will release CUVE when it arrives in a circular capture orbit about Venus with a radius of 50,000 km."
   ]
  },
  {
   "cell_type": "markdown",
   "id": "b3b2b2ca-a587-4c9c-9386-443059447921",
   "metadata": {},
   "source": [
    "The following parameters are given:\n",
    "\n",
    "| parameter | Sun | Earth | Venus |\n",
    "| --- | --- | --- | --- |\n",
    "| Gravitational parameter, $\\mu$ ($\\mathrm{km}^{3}/\\mathrm{s}^{2}$) | $1.327 \\times 10^{11} $ |  $ 3.986 \\times 10^{5} $ |  $ 3.257 \\times 10^{5} $ |\n",
    "| Mean orbital radius about the Sun, ($\\mathrm{km}$) | - |  $ 149.6 \\times 10^{6} $ |  $ 108.2 \\times 10^{6} $ |"
   ]
  },
  {
   "cell_type": "markdown",
   "id": "f13ca231-258d-4c96-a0b5-f79a06665d23",
   "metadata": {},
   "source": [
    "Find the following parameters for the transfer: \n",
    "\n",
    "1. Semimajor axis of the transer orbit \n",
    "2. Time of flight of the transfer \n",
    "3. Time in days of the required departure from Earth, assuming Earth, Venus and the Sun lie along the same line at 𝑡=0 (on the same side of the Sun)\n",
    "4. Required hyperbolic excess speed upon exiting the Earth’s sphere of influence and required hyperbolic excess speed upon entering Venus' sphere of influence \n",
    "5. Location and magnitude of the $\\Delta v$ required for Earth departure \n",
    "6. Required arrival asymptote offset (−𝑏) and magnitude of the $\\Delta v$ required for Venus capture \n",
    "7. Total $\\Delta v$ for the trip"
   ]
  },
  {
   "cell_type": "code",
   "execution_count": null,
   "id": "d47afe6f",
   "metadata": {},
   "outputs": [],
   "source": []
  },
  {
   "cell_type": "code",
   "execution_count": null,
   "id": "c9049e98",
   "metadata": {},
   "outputs": [],
   "source": []
  },
  {
   "cell_type": "markdown",
   "id": "0227c764",
   "metadata": {},
   "source": [
    "## 3. \n",
    "\n",
    "The United States Space Surveillance Network made two observations of a satellite in orbit about the Earth using ground-based radar, with 740.6 s between each observation. The position vectors obtained at each time are as follows:"
   ]
  },
  {
   "cell_type": "markdown",
   "id": "25b7b25b-752d-40e3-87c4-a1f1beecfd97",
   "metadata": {},
   "source": [
    "![assignment04_3](images/assignment04_3.png)"
   ]
  },
  {
   "cell_type": "markdown",
   "id": "1b9c4597-e30f-4b99-ac47-0fd92319aa5a",
   "metadata": {},
   "source": [
    "Note that Earth’s gravitational parameter is 𝜇⊕=3.986×10^5 km^3/s^2 and you may assume $ \\eta = \\eta_{H} $ as the sector-triangle ratio.\n",
    "1. What is the orbital period of the satellite?\n",
    "2. What is the eccentricity of the satellite’s orbit?"
   ]
  },
  {
   "cell_type": "code",
   "execution_count": null,
   "id": "e0eec1ad-d58c-4b32-af68-23758505cb53",
   "metadata": {},
   "outputs": [],
   "source": []
  },
  {
   "cell_type": "code",
   "execution_count": null,
   "id": "41a0275a-3d9e-46d3-bb8b-ba37e63dcd61",
   "metadata": {},
   "outputs": [],
   "source": []
  }
 ],
 "metadata": {
  "kernelspec": {
   "display_name": "Python 3 (ipykernel)",
   "language": "python",
   "name": "python3"
  },
  "language_info": {
   "codemirror_mode": {
    "name": "ipython",
    "version": 3
   },
   "file_extension": ".py",
   "mimetype": "text/x-python",
   "name": "python",
   "nbconvert_exporter": "python",
   "pygments_lexer": "ipython3",
   "version": "3.11.5"
  }
 },
 "nbformat": 4,
 "nbformat_minor": 5
}
