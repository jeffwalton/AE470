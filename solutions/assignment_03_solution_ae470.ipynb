{
 "cells": [
  {
   "cell_type": "markdown",
   "id": "50aea7eb-817d-4619-b695-da0059bf79c6",
   "metadata": {},
   "source": [
    "### AE 470 - Assignment 3 - SOLUTION\n",
    "## Due in 1 week (Tuesday, Febuary 27, 2024 at 12:00 noon)\n",
    "\n",
    "Submit your solutions in the this Jupyter notebook.  Email the notebook file to me at [jwalton@clarkson.edu](jwalton@clarkson.edu).\n"
   ]
  },
  {
   "cell_type": "code",
   "execution_count": 1,
   "id": "833c49f2-fb4b-4ebb-a22d-94ce9b2928bf",
   "metadata": {},
   "outputs": [],
   "source": [
    "# Put your name here\n",
    "\n",
    "# Add your collaborators names here\n"
   ]
  },
  {
   "cell_type": "code",
   "execution_count": 1,
   "id": "a3d26faa-b487-4269-a0f4-8cdb4e489a58",
   "metadata": {},
   "outputs": [],
   "source": [
    "# Configure Jupyter so figures appear in the notebook\n",
    "%matplotlib inline\n",
    "\n",
    "# Configure Jupyter to display the assigned value after an assignment\n",
    "%config InteractiveShell.ast_node_interactivity='last_expr_or_assign'"
   ]
  },
  {
   "cell_type": "code",
   "execution_count": 2,
   "id": "c0355495-256c-4513-abbc-e7348426b21f",
   "metadata": {},
   "outputs": [],
   "source": [
    "try:\n",
    "    from modsim import *\n",
    "except ImportError:\n",
    "    print(\"Download modsim from the course repository at https://github.com/jeffwalton/AE470\")"
   ]
  },
  {
   "cell_type": "markdown",
   "id": "6343bc87",
   "metadata": {},
   "source": [
    "## 1. $ \\vec{\\mathbf{r}} $, $ \\vec{\\mathbf{v}} $ to COE\n",
    "\n",
    "Write a python function to calculate orbital elements from the state vectors, $ \\vec{\\mathbf{r}} $ and $ \\vec{\\mathbf{v}} $. "
   ]
  },
  {
   "cell_type": "code",
   "execution_count": null,
   "id": "a4d37e49",
   "metadata": {},
   "outputs": [],
   "source": [
    "def state_vector_to_coe(r_vec, v_vec, mu ):\n",
    "    # put code here\n",
    "    return h, ecc, theta, raan, incl, omega"
   ]
  },
  {
   "cell_type": "code",
   "execution_count": null,
   "id": "838a5a36",
   "metadata": {},
   "outputs": [],
   "source": []
  },
  {
   "cell_type": "markdown",
   "id": "d4d17522",
   "metadata": {},
   "source": [
    "## 2. COE to $ \\vec{\\mathbf{r}} $, $ \\vec{\\mathbf{v}} $\n",
    "\n",
    "Write a python function to calculate the state vectors, $ \\vec{\\mathbf{r}} $ and $ \\vec{\\mathbf{v}} $, from orbital elements."
   ]
  },
  {
   "cell_type": "code",
   "execution_count": null,
   "id": "d47afe6f",
   "metadata": {},
   "outputs": [],
   "source": [
    "def coe_to_state_vector(h, ecc, theta, raan, incl, omega, mu ):\n",
    "    # put code here\n",
    "    return r_vec, v_vec"
   ]
  },
  {
   "cell_type": "code",
   "execution_count": null,
   "id": "c9049e98",
   "metadata": {},
   "outputs": [],
   "source": []
  },
  {
   "cell_type": "markdown",
   "id": "0227c764",
   "metadata": {},
   "source": [
    "## 3. Test Functions\n",
    "\n",
    "Test your functions on the following state vectors and orbital elements.\n",
    "\n",
    "$ \\vec{\\mathbf{r}} = -6045 \\hat{\\mathbf{I}} - 3490 \\hat{\\mathbf{J}} + 2500 \\hat{\\mathbf{K}} $ km \n",
    "\n",
    "$ \\vec{\\mathbf{v}} = -3.457 \\hat{\\mathbf{I}} + 6.618 \\hat{\\mathbf{J}} + 2.533 \\hat{\\mathbf{K}} $ km/s\n",
    "\n",
    "$ h = 58,310 $ km^2/s\n",
    "\n",
    "$ i = 153.2^{\\circ} $,\n",
    "\n",
    "$ \\Omega = 255.3^{\\circ} $, \n",
    "\n",
    "$ e = 0.1712 $, \n",
    "\n",
    "$ \\omega = 20.07^{\\circ} $,\n",
    "\n",
    "$ \\theta = 28.45^{\\circ} $\n",
    "\n"
   ]
  },
  {
   "cell_type": "code",
   "execution_count": null,
   "id": "ff642949",
   "metadata": {},
   "outputs": [],
   "source": []
  },
  {
   "cell_type": "code",
   "execution_count": null,
   "id": "95dfacc6-2c90-4374-ba48-de5a2234e3c9",
   "metadata": {},
   "outputs": [],
   "source": []
  },
  {
   "cell_type": "code",
   "execution_count": 3,
   "id": "daed14ba",
   "metadata": {},
   "outputs": [],
   "source": [
    "def state_vector_to_coe(r_vec, v_vec, mu ):\n",
    "    r = np.sqrt(np.dot(r_vec,r_vec))\n",
    "    #finding h\n",
    "    h_vec = np.cross(r_vec,v_vec)\n",
    "    h = np.sqrt(np.dot(h_vec,h_vec))\n",
    "    #finding ecc\n",
    "    ecc_vec = (1/mu)*(np.cross(v_vec,h_vec)-mu*(r_vec/r))\n",
    "    ecc = np.sqrt(np.dot(ecc_vec,ecc_vec))\n",
    "    #finding incl\n",
    "    incl = np.arccos(h_vec[2]/h)\n",
    "    #finding RAAN\n",
    "    k_hat = Vector(0,0,1)\n",
    "    N_vec = np.cross(k_hat, h_vec)\n",
    "    N = np.sqrt(np.dot(N_vec,N_vec))\n",
    "    raan = np.deg2rad(360)-np.arccos(N_vec[0]/N)\n",
    "    #finding omega\n",
    "    if ecc_vec[2]<0:\n",
    "         omega = 2*np.pi-np.arccos(np.dot(N_vec,ecc_vec)/(N*ecc))\n",
    "    else:\n",
    "        omega = np.arccos(np.dot(N_vec,ecc_vec)/(N*ecc))\n",
    "    #finding theta\n",
    "    vr = (np.dot(v_vec,r_vec))/r\n",
    "    if vr<0:\n",
    "        theta = 360-np.arccos(np.dot(ecc_vec,r_vec)/(ecc*r))\n",
    "    else:\n",
    "        theta = np.arccos(np.dot(ecc_vec,r_vec)/(ecc*r))\n",
    "    return h, ecc, theta, raan, incl, omega"
   ]
  },
  {
   "cell_type": "code",
   "execution_count": 4,
   "id": "a9ed6c87-5338-44cf-9561-edbf6eaa029c",
   "metadata": {},
   "outputs": [
    {
     "name": "stderr",
     "output_type": "stream",
     "text": [
      "C:\\Users\\jeffw\\AppData\\Local\\Temp\\ipykernel_9424\\2671938182.py:17: FutureWarning: Series.__getitem__ treating keys as positions is deprecated. In a future version, integer keys will always be treated as labels (consistent with DataFrame behavior). To access a value by position, use `ser.iloc[pos]`\n",
      "  if ecc_vec[2]<0:\n"
     ]
    }
   ],
   "source": [
    "r_vec = Vector(-6045, -3490, 2500)\n",
    "v_vec = Vector(-3.457, 6.618, 2.533)\n",
    "mu = 3.986e5\n",
    "h , ecc, theta, raan, incl, omega = state_vector_to_coe(r_vec, v_vec, mu )\n"
   ]
  },
  {
   "cell_type": "code",
   "execution_count": 5,
   "id": "e0eec1ad-d58c-4b32-af68-23758505cb53",
   "metadata": {},
   "outputs": [
    {
     "name": "stdout",
     "output_type": "stream",
     "text": [
      "Angular Momentum =58311.66993185606\n",
      " Eccentricity = 2.6747036137846094\n",
      " True Anomaly = 28.44562830661498\n",
      " RAAN = 255.27928533439618\n",
      " Inclination = 153.2492285182475\n",
      " Argument of Perigee = 20.068316650582524\n"
     ]
    }
   ],
   "source": [
    "print(f\"Angular Momentum ={h}\\n\", \n",
    "      f\"Eccentricity = {incl}\\n\", \n",
    "      f\"True Anomaly = {np.rad2deg(theta)}\\n\",\n",
    "      f\"RAAN = {np.rad2deg(raan)}\\n\",\n",
    "      f\"Inclination = {np.rad2deg(incl)}\\n\",\n",
    "      f\"Argument of Perigee = {np.rad2deg(omega)}\"\n",
    ")"
   ]
  },
  {
   "cell_type": "code",
   "execution_count": 6,
   "id": "41a0275a-3d9e-46d3-bb8b-ba37e63dcd61",
   "metadata": {},
   "outputs": [],
   "source": [
    "def coe_to_state_vector(h, ecc, theta, raan, incl, omega, mu ):\n",
    "    #define variable for sin and cos\n",
    "    ct = np.cos(theta)\n",
    "    st = np.sin(theta)\n",
    "    craan = np.cos(raan)\n",
    "    sraan = np.sin(raan)\n",
    "    ci = np.cos(incl)\n",
    "    si = np.sin(incl)\n",
    "    com = np.cos(omega)\n",
    "    som = np.sin(omega)\n",
    "    #calculations\n",
    "    r = (h**2/mu)/(1+ecc*np.cos(theta))\n",
    "    rp_vec = np.matrix([r*ct, r*st, 0])\n",
    "    vp_vec = np.matrix([((-mu/h)*st), (mu/h*(ecc+ct)), 0])\n",
    "    Cgp = np.matrix([[(com*craan-sraan*ci*som), (-craan*som-sraan*ci*com), sraan*si],\n",
    "                     [(sraan*com+craan*ci*som), (-sraan*som+craan*ci*com), -craan*si],\n",
    "                     [si*som, si*com, ci]])\n",
    "    r_vec = Cgp*np.transpose(rp_vec)\n",
    "    v_vec = Cgp*np.transpose(vp_vec)\n",
    "    return r_vec, v_vec"
   ]
  },
  {
   "cell_type": "code",
   "execution_count": 7,
   "id": "1b0032f7-3397-4da6-bafb-7ce9056c6385",
   "metadata": {},
   "outputs": [],
   "source": [
    "r_vec, v_vec = coe_to_state_vector(h, ecc, theta, raan, incl, omega, mu )"
   ]
  },
  {
   "cell_type": "code",
   "execution_count": 8,
   "id": "336f30b8-878a-48cc-93de-43a0fdf0fe50",
   "metadata": {},
   "outputs": [
    {
     "name": "stdout",
     "output_type": "stream",
     "text": [
      "r_vec=matrix([[-6045.],\n",
      "        [-3490.],\n",
      "        [ 2500.]]),\n",
      " v_vec=matrix([[-3.457],\n",
      "        [ 6.618],\n",
      "        [ 2.533]])\n"
     ]
    }
   ],
   "source": [
    "print(f\"{r_vec=},\\n {v_vec=}\")"
   ]
  },
  {
   "cell_type": "code",
   "execution_count": null,
   "id": "d51eb677-4572-4372-b6ca-a1c987b5b670",
   "metadata": {},
   "outputs": [],
   "source": []
  }
 ],
 "metadata": {
  "kernelspec": {
   "display_name": "Python 3 (ipykernel)",
   "language": "python",
   "name": "python3"
  },
  "language_info": {
   "codemirror_mode": {
    "name": "ipython",
    "version": 3
   },
   "file_extension": ".py",
   "mimetype": "text/x-python",
   "name": "python",
   "nbconvert_exporter": "python",
   "pygments_lexer": "ipython3",
   "version": "3.11.5"
  }
 },
 "nbformat": 4,
 "nbformat_minor": 5
}
