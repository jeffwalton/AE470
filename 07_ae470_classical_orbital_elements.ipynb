{
 "cells": [
  {
   "cell_type": "code",
   "execution_count": 2,
   "id": "c5bd37af-1fe7-4d2b-acc9-e95de21d71b0",
   "metadata": {},
   "outputs": [],
   "source": [
    "# Configure Jupyter so figures appear in the notebook\n",
    "%matplotlib inline\n",
    "\n",
    "# Configure Jupyter to display the assigned value after an assignment\n",
    "%config InteractiveShell.ast_node_interactivity='last_expr_or_assign'"
   ]
  },
  {
   "cell_type": "code",
   "execution_count": 3,
   "id": "9f887208-fa7a-450c-8eb6-c8591aff148c",
   "metadata": {},
   "outputs": [],
   "source": [
    "# import modsim and install if necessary\n",
    "try:\n",
    "    from modsim import *\n",
    "except ImportError:\n",
    "    print(\"Download modsim from the course repository at https://github.com/jeffwalton/AE470\")"
   ]
  },
  {
   "cell_type": "markdown",
   "id": "4bc52278-fc06-4ae9-b720-2a4fd8ccdb42",
   "metadata": {},
   "source": [
    "# Classical Orbital Elements\n"
   ]
  },
  {
   "cell_type": "markdown",
   "id": "50e75236-80f5-457f-b8e7-80f9f694cb04",
   "metadata": {},
   "source": [
    "## Exercises"
   ]
  },
  {
   "cell_type": "markdown",
   "id": "7e2ebcfb-fb57-4334-bb30-d7937f8fcab6",
   "metadata": {},
   "source": [
    "### 1.  Curtis, Example 4.7, page 211\n",
    "For a given earth orbit, the elements are $ h = 80,000 km^2/s $, $ e = 1.4 $, $ i = 30^{\\circ} $, $ \\Omega = 40^{\\circ} $, $ \\omega = 60^{\\circ} $, $ \\theta = 30^{\\circ} $.\n",
    "\n",
    "Find the state vectors $ \\vec{\\mathbf{r}} $ and $ \\vec{\\mathbf{r}} $ in the geocentric equatorial frame.\n",
    "\n"
   ]
  },
  {
   "cell_type": "code",
   "execution_count": 4,
   "id": "d385cf5f-2593-491e-84b9-2560561f549a",
   "metadata": {},
   "outputs": [],
   "source": [
    "import numpy as np"
   ]
  },
  {
   "cell_type": "code",
   "execution_count": null,
   "id": "c960b53e-1e52-434f-b157-ba41754cbffd",
   "metadata": {},
   "outputs": [],
   "source": []
  },
  {
   "cell_type": "code",
   "execution_count": 5,
   "id": "ce09a7a2-797f-4ce3-af8f-f9ac4d8fe86a",
   "metadata": {},
   "outputs": [
    {
     "data": {
      "text/plain": [
       "0.5235987755982988"
      ]
     },
     "execution_count": 5,
     "metadata": {},
     "output_type": "execute_result"
    }
   ],
   "source": [
    "h = 80_000 # km^2/s\n",
    "ecc = 1.4\n",
    "\n",
    "inc = np.deg2rad(30.0)\n",
    "O = np.deg2rad(40.0)\n",
    "w = np.deg2rad(60.0)\n",
    "theta = np.deg2rad(30.0)\n"
   ]
  },
  {
   "cell_type": "code",
   "execution_count": 6,
   "id": "44d3071f-d1f6-4e64-8ff4-7146c51e059f",
   "metadata": {},
   "outputs": [],
   "source": [
    "def C1(theta):\n",
    "    c = np.cos(theta)\n",
    "    s = np.sin(theta)\n",
    "    return np.matrix([[ 1, 0, 0],\n",
    "            [0, c, s],\n",
    "            [0, -s, c]])\n",
    "\n",
    "def C2(theta):\n",
    "    c = np.cos(theta)\n",
    "    s = np.sin(theta)\n",
    "    return np.matrix([[ c, 0, -s],\n",
    "            [0, 1, 0],\n",
    "            [s, 0, c]])\n",
    "\n",
    "def C3(theta):\n",
    "    c = np.cos(theta)\n",
    "    s = np.sin(theta)\n",
    "    return np.matrix([[ c, s, 0],\n",
    "            [-s, c, 0],\n",
    "            [0, 0, 1]])"
   ]
  },
  {
   "cell_type": "code",
   "execution_count": 28,
   "id": "ff76f938-4272-4908-9b81-5e7dc44359d9",
   "metadata": {},
   "outputs": [
    {
     "data": {
      "text/plain": [
       "matrix([[ 0.5      ,  0.8660254,  0.       ],\n",
       "        [-0.8660254,  0.5      ,  0.       ],\n",
       "        [ 0.       ,  0.       ,  1.       ]])"
      ]
     },
     "execution_count": 28,
     "metadata": {},
     "output_type": "execute_result"
    }
   ],
   "source": [
    "C3(w)"
   ]
  },
  {
   "cell_type": "code",
   "execution_count": 20,
   "id": "18d10210-8e16-4e13-846d-e7d00f1fb339",
   "metadata": {},
   "outputs": [
    {
     "data": {
      "text/plain": [
       "matrix([[-0.09906849,  0.89592714,  0.4330127 ],\n",
       "        [-0.94174915, -0.22496343,  0.25      ],\n",
       "        [ 0.3213938 , -0.38302222,  0.8660254 ]])"
      ]
     },
     "execution_count": 20,
     "metadata": {},
     "output_type": "execute_result"
    }
   ],
   "source": [
    " C3(O) @ C1(inc) @ C3(w)"
   ]
  },
  {
   "cell_type": "code",
   "execution_count": 24,
   "id": "2bf320cd-7f1b-4d4d-a6f9-fe0215d657a4",
   "metadata": {},
   "outputs": [
    {
     "data": {
      "text/plain": [
       "x    6285.0\n",
       "y    3628.6\n",
       "z       0.0\n",
       "Name: component, dtype: float64"
      ]
     },
     "execution_count": 24,
     "metadata": {},
     "output_type": "execute_result"
    }
   ],
   "source": [
    "r_vec = Vector(6285.0, 3628.6, 0)"
   ]
  },
  {
   "cell_type": "code",
   "execution_count": 30,
   "id": "7a2ca61b-003a-4cc4-b67a-8d01af4b81ea",
   "metadata": {},
   "outputs": [
    {
     "data": {
      "text/plain": [
       "array([-4039.8763903 ,  4814.59977272,  3628.63483139])"
      ]
     },
     "execution_count": 30,
     "metadata": {},
     "output_type": "execute_result"
    }
   ],
   "source": [
    "(C3()) @ C1(inc) @ C3(w)) @ r_vec"
   ]
  },
  {
   "cell_type": "code",
   "execution_count": null,
   "id": "a81fb584-4220-448a-a927-be4397c4e2b5",
   "metadata": {},
   "outputs": [],
   "source": []
  },
  {
   "cell_type": "code",
   "execution_count": null,
   "id": "0e373e4b-ef76-4d1b-ac8a-b0882154e9d0",
   "metadata": {},
   "outputs": [],
   "source": []
  },
  {
   "cell_type": "code",
   "execution_count": null,
   "id": "01dcefdd-186a-452e-a81f-503240a12b44",
   "metadata": {},
   "outputs": [],
   "source": []
  },
  {
   "cell_type": "code",
   "execution_count": null,
   "id": "b22fd556-b032-4ea0-b8af-5d3f4afe688f",
   "metadata": {},
   "outputs": [],
   "source": []
  },
  {
   "cell_type": "code",
   "execution_count": null,
   "id": "eb2c8f30-b385-498e-aed7-507ab30e94ee",
   "metadata": {},
   "outputs": [],
   "source": []
  }
 ],
 "metadata": {
  "kernelspec": {
   "display_name": "Python 3 (ipykernel)",
   "language": "python",
   "name": "python3"
  },
  "language_info": {
   "codemirror_mode": {
    "name": "ipython",
    "version": 3
   },
   "file_extension": ".py",
   "mimetype": "text/x-python",
   "name": "python",
   "nbconvert_exporter": "python",
   "pygments_lexer": "ipython3",
   "version": "3.11.5"
  }
 },
 "nbformat": 4,
 "nbformat_minor": 5
}
