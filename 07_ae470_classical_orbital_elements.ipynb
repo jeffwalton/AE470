{
 "cells": [
  {
   "cell_type": "code",
   "execution_count": 2,
   "id": "c5bd37af-1fe7-4d2b-acc9-e95de21d71b0",
   "metadata": {},
   "outputs": [],
   "source": [
    "# Configure Jupyter so figures appear in the notebook\n",
    "%matplotlib inline\n",
    "\n",
    "# Configure Jupyter to display the assigned value after an assignment\n",
    "%config InteractiveShell.ast_node_interactivity='last_expr_or_assign'"
   ]
  },
  {
   "cell_type": "code",
   "execution_count": 3,
   "id": "9f887208-fa7a-450c-8eb6-c8591aff148c",
   "metadata": {},
   "outputs": [],
   "source": [
    "# import modsim and install if necessary\n",
    "try:\n",
    "    from modsim import *\n",
    "except ImportError:\n",
    "    print(\"Download modsim from the course repository at https://github.com/jeffwalton/AE470\")"
   ]
  },
  {
   "cell_type": "markdown",
   "id": "4bc52278-fc06-4ae9-b720-2a4fd8ccdb42",
   "metadata": {},
   "source": [
    "# Classical Orbital Elements\n"
   ]
  },
  {
   "cell_type": "markdown",
   "id": "50e75236-80f5-457f-b8e7-80f9f694cb04",
   "metadata": {},
   "source": [
    "## Exercises"
   ]
  },
  {
   "cell_type": "markdown",
   "id": "7e2ebcfb-fb57-4334-bb30-d7937f8fcab6",
   "metadata": {},
   "source": [
    "### 1.  Curtis, Example 4.7, page 211\n",
    "For a given earth orbit, the elements are $ h = 80,000 km^2/s $, $ e = 1.4 $, $ i = 30^{\\circ} $, $ \\Omega = 40^{\\circ} $, $ \\omega = 60^{\\circ} $, $ \\theta = 30^{\\circ} $.\n",
    "\n",
    "Find the state vectors $ \\vec{\\mathbf{r}} $ and $ \\vec{\\mathbf{v}} $ in the geocentric equatorial frame.\n",
    "\n"
   ]
  },
  {
   "cell_type": "code",
   "execution_count": 4,
   "id": "d385cf5f-2593-491e-84b9-2560561f549a",
   "metadata": {},
   "outputs": [],
   "source": [
    "import numpy as np"
   ]
  },
  {
   "cell_type": "code",
   "execution_count": 7,
   "id": "c960b53e-1e52-434f-b157-ba41754cbffd",
   "metadata": {},
   "outputs": [
    {
     "data": {
      "text/plain": [
       "398600.0"
      ]
     },
     "execution_count": 7,
     "metadata": {},
     "output_type": "execute_result"
    }
   ],
   "source": [
    "mu = 3.986000e+5 # km^3/s^2\n"
   ]
  },
  {
   "cell_type": "code",
   "execution_count": 5,
   "id": "ce09a7a2-797f-4ce3-af8f-f9ac4d8fe86a",
   "metadata": {},
   "outputs": [
    {
     "data": {
      "text/plain": [
       "0.5235987755982988"
      ]
     },
     "execution_count": 5,
     "metadata": {},
     "output_type": "execute_result"
    }
   ],
   "source": [
    "h = 80_000 # km^2/s\n",
    "ecc = 1.4\n",
    "\n",
    "inc = np.deg2rad(30.0)\n",
    "O = np.deg2rad(40.0)\n",
    "w = np.deg2rad(60.0)\n",
    "theta = np.deg2rad(30.0)\n"
   ]
  },
  {
   "cell_type": "code",
   "execution_count": 23,
   "id": "b46e0ef1-b11b-43dd-8505-7a4609b6dde6",
   "metadata": {},
   "outputs": [
    {
     "data": {
      "text/plain": [
       "7491.824158513841"
      ]
     },
     "execution_count": 23,
     "metadata": {},
     "output_type": "execute_result"
    }
   ],
   "source": [
    "r = ((h**2)/mu)/(1 + ecc*np.cos(theta))"
   ]
  },
  {
   "cell_type": "code",
   "execution_count": 24,
   "id": "32db2bab-ad8c-441c-a006-ccc113ea9e37",
   "metadata": {},
   "outputs": [
    {
     "data": {
      "text/plain": [
       "x    6488.110042\n",
       "y    3745.912079\n",
       "z       0.000000\n",
       "Name: component, dtype: float64"
      ]
     },
     "execution_count": 24,
     "metadata": {},
     "output_type": "execute_result"
    }
   ],
   "source": [
    "rp_vec = Vector(r*np.cos(theta),r*np.sin(theta),0)"
   ]
  },
  {
   "cell_type": "code",
   "execution_count": 25,
   "id": "7acfd708-82e0-4f9f-b8ea-949d0d133ad4",
   "metadata": {},
   "outputs": [
    {
     "data": {
      "text/plain": [
       "x   -2.847143\n",
       "y    9.145168\n",
       "z    0.000000\n",
       "Name: component, dtype: float64"
      ]
     },
     "execution_count": 25,
     "metadata": {},
     "output_type": "execute_result"
    }
   ],
   "source": [
    "vp_vec = Vector(-mu/h*np.sin(theta),mu/h*(ecc+np.cos(theta)),0)"
   ]
  },
  {
   "cell_type": "code",
   "execution_count": 26,
   "id": "44d3071f-d1f6-4e64-8ff4-7146c51e059f",
   "metadata": {},
   "outputs": [],
   "source": [
    "def C1(theta):\n",
    "    c = np.cos(theta)\n",
    "    s = np.sin(theta)\n",
    "    return np.matrix([[ 1, 0, 0],\n",
    "            [0, c, s],\n",
    "            [0, -s, c]])\n",
    "\n",
    "def C2(theta):\n",
    "    c = np.cos(theta)\n",
    "    s = np.sin(theta)\n",
    "    return np.matrix([[ c, 0, -s],\n",
    "            [0, 1, 0],\n",
    "            [s, 0, c]])\n",
    "\n",
    "def C3(theta):\n",
    "    c = np.cos(theta)\n",
    "    s = np.sin(theta)\n",
    "    return np.matrix([[ c, s, 0],\n",
    "            [-s, c, 0],\n",
    "            [0, 0, 1]])"
   ]
  },
  {
   "cell_type": "code",
   "execution_count": 27,
   "id": "217e7a49-20d7-45ff-b7e4-f226b2f55b1e",
   "metadata": {},
   "outputs": [
    {
     "data": {
      "text/plain": [
       "matrix([[ 2.87813994e-01, -7.66044443e-01,  5.74751265e-01],\n",
       "        [ 3.43003361e-01,  6.42787610e-01,  6.84961884e-01],\n",
       "        [-8.94154237e-01,  1.64253469e-16,  4.47759088e-01]])"
      ]
     },
     "execution_count": 27,
     "metadata": {},
     "output_type": "execute_result"
    }
   ],
   "source": [
    "rot_mat_peri_to_geoinertial = C3(O) @ C1(inc) @ C3(w)"
   ]
  },
  {
   "cell_type": "code",
   "execution_count": 28,
   "id": "89b871ec-2c42-4ef0-b690-2e537ec55a65",
   "metadata": {},
   "outputs": [
    {
     "data": {
      "text/plain": [
       "array([-1002.16626942,  4633.26942307, -5801.3710831 ])"
      ]
     },
     "execution_count": 28,
     "metadata": {},
     "output_type": "execute_result"
    }
   ],
   "source": [
    "r_vec = rot_mat_peri_to_geoinertial @ rp_vec"
   ]
  },
  {
   "cell_type": "code",
   "execution_count": 29,
   "id": "093bc258-d34e-4097-93be-3a3d9a0b2b6a",
   "metadata": {},
   "outputs": [
    {
     "data": {
      "text/plain": [
       "array([-7.82505231,  4.9018208 ,  2.54578485])"
      ]
     },
     "execution_count": 29,
     "metadata": {},
     "output_type": "execute_result"
    }
   ],
   "source": [
    "v_vec = rot_mat_peri_to_geoinertial @ vp_vec"
   ]
  },
  {
   "cell_type": "code",
   "execution_count": null,
   "id": "61567f34-5465-40d5-a204-8ff8ff7401af",
   "metadata": {},
   "outputs": [],
   "source": []
  },
  {
   "cell_type": "code",
   "execution_count": null,
   "id": "859d9ee1-b3d5-4fb6-81f7-211444eba56e",
   "metadata": {},
   "outputs": [],
   "source": []
  },
  {
   "cell_type": "code",
   "execution_count": null,
   "id": "8e8ecd37-55ba-489a-b0f9-0cb582d66ec7",
   "metadata": {},
   "outputs": [],
   "source": []
  },
  {
   "cell_type": "code",
   "execution_count": null,
   "id": "58968b58-ec31-447e-9656-fb2d917a7c54",
   "metadata": {},
   "outputs": [],
   "source": []
  },
  {
   "cell_type": "code",
   "execution_count": null,
   "id": "e778570d-0778-4cf0-aca7-5a936edf6787",
   "metadata": {},
   "outputs": [],
   "source": []
  },
  {
   "cell_type": "markdown",
   "id": "238daa1c-e0f1-4ad6-8058-31eaf2625068",
   "metadata": {},
   "source": [
    " ## Problem from Slides"
   ]
  },
  {
   "cell_type": "code",
   "execution_count": 30,
   "id": "a81fb584-4220-448a-a927-be4397c4e2b5",
   "metadata": {},
   "outputs": [
    {
     "data": {
      "text/plain": [
       "0.5235987755982988"
      ]
     },
     "execution_count": 30,
     "metadata": {},
     "output_type": "execute_result"
    }
   ],
   "source": [
    "h = 70_000 # km^2/s\n",
    "ecc = 0.74\n",
    "\n",
    "inc = np.deg2rad(63.4)\n",
    "O = np.deg2rad(40.0)\n",
    "w = np.deg2rad(270.0)\n",
    "theta = np.deg2rad(30.0)"
   ]
  },
  {
   "cell_type": "code",
   "execution_count": 31,
   "id": "db2ad2ec-178c-4577-93ff-e14973a19883",
   "metadata": {},
   "outputs": [
    {
     "data": {
      "text/plain": [
       "7491.824158513841"
      ]
     },
     "execution_count": 31,
     "metadata": {},
     "output_type": "execute_result"
    }
   ],
   "source": [
    "r = ((h**2)/mu)/(1 + ecc*np.cos(theta))"
   ]
  },
  {
   "cell_type": "code",
   "execution_count": 32,
   "id": "2dcf8252-3ca5-40ab-a247-9f1e589a99f0",
   "metadata": {},
   "outputs": [
    {
     "data": {
      "text/plain": [
       "x    6488.110042\n",
       "y    3745.912079\n",
       "z       0.000000\n",
       "Name: component, dtype: float64"
      ]
     },
     "execution_count": 32,
     "metadata": {},
     "output_type": "execute_result"
    }
   ],
   "source": [
    "rp_vec = Vector(r*np.cos(theta),r*np.sin(theta),0)"
   ]
  },
  {
   "cell_type": "code",
   "execution_count": 33,
   "id": "fa8a6d70-9111-4595-b029-9230cf3eb816",
   "metadata": {},
   "outputs": [
    {
     "data": {
      "text/plain": [
       "x   -2.847143\n",
       "y    9.145168\n",
       "z    0.000000\n",
       "Name: component, dtype: float64"
      ]
     },
     "execution_count": 33,
     "metadata": {},
     "output_type": "execute_result"
    }
   ],
   "source": [
    "vp_vec = Vector(-mu/h*np.sin(theta),mu/h*(ecc+np.cos(theta)),0)"
   ]
  },
  {
   "cell_type": "code",
   "execution_count": 34,
   "id": "01dcefdd-186a-452e-a81f-503240a12b44",
   "metadata": {},
   "outputs": [
    {
     "data": {
      "text/plain": [
       "matrix([[ 2.87813994e-01, -7.66044443e-01,  5.74751265e-01],\n",
       "        [ 3.43003361e-01,  6.42787610e-01,  6.84961884e-01],\n",
       "        [-8.94154237e-01,  1.64253469e-16,  4.47759088e-01]])"
      ]
     },
     "execution_count": 34,
     "metadata": {},
     "output_type": "execute_result"
    }
   ],
   "source": [
    "rot_mat_peri_to_geoinertial = C3(O) @ C1(inc) @ C3(w)"
   ]
  },
  {
   "cell_type": "code",
   "execution_count": 35,
   "id": "a33ba990-1f4c-413b-9f52-b45b1cbc8d96",
   "metadata": {},
   "outputs": [
    {
     "data": {
      "text/plain": [
       "array([-1002.16626942,  4633.26942307, -5801.3710831 ])"
      ]
     },
     "execution_count": 35,
     "metadata": {},
     "output_type": "execute_result"
    }
   ],
   "source": [
    "r_vec = rot_mat_peri_to_geoinertial @ rp_vec"
   ]
  },
  {
   "cell_type": "code",
   "execution_count": 36,
   "id": "eb3bf33d-2a3f-47b8-8a29-92c56216ebb1",
   "metadata": {},
   "outputs": [
    {
     "data": {
      "text/plain": [
       "array([-7.82505231,  4.9018208 ,  2.54578485])"
      ]
     },
     "execution_count": 36,
     "metadata": {},
     "output_type": "execute_result"
    }
   ],
   "source": [
    "v_vec = rot_mat_peri_to_geoinertial @ vp_vec"
   ]
  },
  {
   "cell_type": "code",
   "execution_count": null,
   "id": "eb2c8f30-b385-498e-aed7-507ab30e94ee",
   "metadata": {},
   "outputs": [],
   "source": []
  }
 ],
 "metadata": {
  "kernelspec": {
   "display_name": "Python 3 (ipykernel)",
   "language": "python",
   "name": "python3"
  },
  "language_info": {
   "codemirror_mode": {
    "name": "ipython",
    "version": 3
   },
   "file_extension": ".py",
   "mimetype": "text/x-python",
   "name": "python",
   "nbconvert_exporter": "python",
   "pygments_lexer": "ipython3",
   "version": "3.11.5"
  }
 },
 "nbformat": 4,
 "nbformat_minor": 5
}
