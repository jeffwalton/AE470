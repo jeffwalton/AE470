{
 "cells": [
  {
   "cell_type": "markdown",
   "id": "75df53df-2d95-47dc-b3d7-d2520d8ebbf2",
   "metadata": {},
   "source": [
    "# Prerequisite Material\n",
    "\n",
    "## Vectors\n"
   ]
  },
  {
   "cell_type": "markdown",
   "id": "1acbbe8a-04f5-407c-aa12-ca9a78c2d522",
   "metadata": {},
   "source": [
    "### Addition\n",
    "\\begin{gather}\n",
    "(\\vec{a} + \\vec{b}) + \\vec{c} = \\vec{a} + (\\vec{b} + \\vec{c}) & \\text{associative}\\\\\n",
    "\\vec{a} + \\vec{b} = \\vec{b} + \\vec{a} & \\text{commutative}\\\\\n",
    "\\vec{a} + \\vec{0} = \\vec{a} & \\text{identity}\\\\\n",
    "\\vec{a} + (-\\vec{a)} = \\vec{0} & \\text{inverse}\n",
    "\\end{gather}"
   ]
  },
  {
   "cell_type": "markdown",
   "id": "4c26b935-580c-463e-bbe3-725cfb7fe4f8",
   "metadata": {},
   "source": [
    "### Scalar Multiplication\n",
    "\\begin{gather}\n",
    "a(b\\vec{c}) = (ab)\\vec{c} & \\text{x}\\\\\n",
    "(a+b)\\vec{c} = a\\vec{c} + b\\vec{c} & \\text{x}\\\\\n",
    "a(\\vec{b} + \\vec{c}) = a\\vec{b} + a\\vec{c} & \\text{x}\\\\\n",
    "1\\vec{a} = \\vec{a} & \\text{identity}\\\\\n",
    "0\\vec{a} = \\vec{0} & \\text{x}\n",
    "\\end{gather}"
   ]
  },
  {
   "cell_type": "code",
   "execution_count": null,
   "id": "97754a65-fcc3-4f58-90cc-34d3b0fb128f",
   "metadata": {},
   "outputs": [],
   "source": []
  },
  {
   "cell_type": "code",
   "execution_count": null,
   "id": "b76314dc-f63c-4bda-8a55-c10f4067b2be",
   "metadata": {},
   "outputs": [],
   "source": []
  }
 ],
 "metadata": {
  "kernelspec": {
   "display_name": "Python 3 (ipykernel)",
   "language": "python",
   "name": "python3"
  },
  "language_info": {
   "codemirror_mode": {
    "name": "ipython",
    "version": 3
   },
   "file_extension": ".py",
   "mimetype": "text/x-python",
   "name": "python",
   "nbconvert_exporter": "python",
   "pygments_lexer": "ipython3",
   "version": "3.11.5"
  }
 },
 "nbformat": 4,
 "nbformat_minor": 5
}
