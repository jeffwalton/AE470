{
 "cells": [
  {
   "cell_type": "markdown",
   "id": "75df53df-2d95-47dc-b3d7-d2520d8ebbf2",
   "metadata": {},
   "source": [
    "# Prerequisite Material\n",
    "\n",
    "Following the notation of <em>Spacecraft Dynamics and Control: An Introduction</em>, First Edition. A.H.J. de Ruiter, C.J. Damaren and J.R. Forbes.  2013 John Wiley & Sons, Ltd.\n",
    "\n",
    "## Vectors\n",
    "A vector is a three-dimensional quantity, denoted $ \\vec{r} $, with <em>magnitude</em> ($|\\vec{r}|$) and <em>direction</em> that satisfies the following rules:"
   ]
  },
  {
   "cell_type": "markdown",
   "id": "1acbbe8a-04f5-407c-aa12-ca9a78c2d522",
   "metadata": {},
   "source": [
    "### Addition\n",
    "\n",
    "\\begin{gather}\n",
    "(\\vec{a} + \\vec{b}) + \\vec{c} = \\vec{a} + (\\vec{b} + \\vec{c}) & \\text{associative}\\\\\n",
    "\\vec{a} + \\vec{b} = \\vec{b} + \\vec{a} & \\text{commutative}\\\\\n",
    "\\vec{a} + \\vec{0} = \\vec{a} & \\text{identity}\\\\\n",
    "\\vec{a} + (-\\vec{a)} = \\vec{0} & \\text{inverse}\n",
    "\\end{gather}"
   ]
  },
  {
   "cell_type": "markdown",
   "id": "4c26b935-580c-463e-bbe3-725cfb7fe4f8",
   "metadata": {},
   "source": [
    "### Scalar Multiplication\n",
    "\n",
    "\\begin{gather}\n",
    "a(b\\vec{c}) = (ab)\\vec{c} \\\\\n",
    "(a+b)\\vec{c} = a\\vec{c} + b\\vec{c} \\\\\n",
    "a(\\vec{b} + \\vec{c}) = a\\vec{b} + a\\vec{c} \\\\\n",
    "1\\vec{a} = \\vec{a} \\\\\n",
    "0\\vec{a} = \\vec{0} \n",
    "\\end{gather}"
   ]
  },
  {
   "cell_type": "markdown",
   "id": "c3784b57-4c8a-43ae-bad2-cde8c59c23f5",
   "metadata": {},
   "source": [
    "### Scalar (Dot) Product\n",
    "\n",
    "Defined as\n",
    "\\begin{equation}\n",
    "\\vec{a} \\cdot \\vec{b} \\triangleq |\\vec{a}| |\\vec{b}| \\cos \\theta\n",
    "\\end{equation}\n",
    "\n",
    "\n",
    "The dot product is the the projection of $ \\vec{a} $ onto $ \\vec{b} $ multiplied by $ |\\vec{b}| $.\n",
    "\n",
    "The dot product is commutative $ \\vec{a} \\cdot \\vec{b} = \\vec{b} \\cdot \\vec{a} $.\n",
    "\n",
    "The dot product is also distributive $ (\\vec{a} + \\vec{b}) \\cdot \\vec{c} = \\vec{a} \\cdot \\vec{c} + \\vec{b} \\cdot \\vec{c} $\n",
    "\n",
    "Additional properties:\n",
    "\\begin{gather}\n",
    "\\vec{a} \\cdot \\vec{a} = |\\vec{a}|^2 \\geq 0 \\\\\n",
    "\\vec{a} \\cdot \\vec{a} = 0 \\Leftrightarrow \\vec{a} = \\vec{0} \\\\\n",
    "\\vec{a} \\cdot (c\\vec{b}) = c\\vec{a} \\cdot \\vec{b} \\\\\n",
    "\\vec{a} \\cdot \\vec{b} = 0 \\Leftrightarrow \\vec{a} \\perp \\vec{b} \\text{ or } \\vec{a} = \\vec{0} \\text{ or } \\vec{b} = \\vec{0}\n",
    "\\end{gather}"
   ]
  },
  {
   "cell_type": "markdown",
   "id": "7cab0217-b37c-4b86-8506-badd5c731fe4",
   "metadata": {},
   "source": [
    "### Vector Cross Product\n",
    "\n",
    "Defined as \n",
    "\\begin{equation}\n",
    "\\vec{c} = \\vec{a} \\times \\vec{b}\n",
    "\\end{equation}\n",
    "where \n",
    "\\begin{equation}\n",
    "|\\vec{c}| = |\\vec{a}| |\\vec{b}| \\sin \\theta\n",
    "\\end{equation}\n",
    "with the direction perpendicular to $\\vec{a}$ and $\\vec{b}$ according to the right-hand rule.\n",
    "\n",
    "Changing the order reverses the direction of the cross-product\n",
    "\\begin{equation}\n",
    "\\vec{a} \\times \\vec{b} = -\\vec{b} \\times \\vec{a}\n",
    "\\end{equation}\n",
    "\n",
    "Additional properties:\n",
    "\\begin{gather}\n",
    "(\\vec{a} + \\vec{b}) \\times \\vec{c} = \\vec{a} \\times \\vec{c} + \\vec{b} \\times \\vec{c} & \\text{distributive}\\\\\n",
    "\\vec{a} \\times \\vec{a} = \\vec{0} \\\\\n",
    "(a\\vec{b}) \\times \\vec{c} = a(\\vec{b} \\times \\vec{c}) \\\\\n",
    "\\end{gather}\n"
   ]
  },
  {
   "cell_type": "code",
   "execution_count": null,
   "id": "acc7b144-69fc-43f0-90e4-145146084818",
   "metadata": {},
   "outputs": [],
   "source": []
  },
  {
   "cell_type": "code",
   "execution_count": null,
   "id": "0cc22817-0a5a-4528-97da-1880178ce990",
   "metadata": {},
   "outputs": [],
   "source": []
  },
  {
   "cell_type": "code",
   "execution_count": null,
   "id": "5e764cd2-d587-4dba-a447-aa75a437824f",
   "metadata": {},
   "outputs": [],
   "source": []
  },
  {
   "cell_type": "code",
   "execution_count": null,
   "id": "7cc81ff8-c10c-480f-a148-9efbe2fc6157",
   "metadata": {},
   "outputs": [],
   "source": []
  }
 ],
 "metadata": {
  "kernelspec": {
   "display_name": "Python 3 (ipykernel)",
   "language": "python",
   "name": "python3"
  },
  "language_info": {
   "codemirror_mode": {
    "name": "ipython",
    "version": 3
   },
   "file_extension": ".py",
   "mimetype": "text/x-python",
   "name": "python",
   "nbconvert_exporter": "python",
   "pygments_lexer": "ipython3",
   "version": "3.11.5"
  }
 },
 "nbformat": 4,
 "nbformat_minor": 5
}
