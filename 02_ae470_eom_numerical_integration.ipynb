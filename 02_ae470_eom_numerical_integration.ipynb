{
 "cells": [
  {
   "cell_type": "code",
   "execution_count": null,
   "id": "29145381-3e4e-4856-95be-9754812c6b58",
   "metadata": {},
   "outputs": [],
   "source": [
    "# Configure Jupyter so figures appear in the notebook\n",
    "%matplotlib inline\n",
    "\n",
    "# Configure Jupyter to display the assigned value after an assignment\n",
    "%config InteractiveShell.ast_node_interactivity='last_expr_or_assign'"
   ]
  },
  {
   "cell_type": "markdown",
   "id": "57ebdd10-e6d1-495e-b52c-30ffce5f593c",
   "metadata": {},
   "source": [
    "# Equations of Motion and Numerical Integration\n",
    "\n",
    "## Equations of Motion\n",
    "\n",
    "Consider two point masses, $ \\mathnormal{m_1} $ and $ \\mathnormal{m_2} $\n",
    "  \n",
    "![two-body problem inertial frame](images/tbp_inertial_pointmasses.png)\n",
    "\n",
    "$ \\mathcal{F}_I $ is an inertial frame.  An inertial frame is a coordinate frame where Newton's Laws apply.\n",
    "\n",
    "$ \\vec{\\mathbf{r}}_1 $ is the position vector of mass $ \\mathnormal{m_1} $. \n",
    "\n",
    "$ \\vec{\\mathbf{r}}_2 $ is the position vector of mass $ \\mathnormal{m_2} $. \n",
    "\n",
    "$ \\vec{\\mathbf{r}}_{21} $ is the position vector of mass $ \\mathnormal{m_2} $ with relative to $ \\mathnormal{m_1} $.\n",
    "\\begin{equation}\n",
    "\\vec{\\mathbf{r}}_{21} = \\vec{\\mathbf{r}}_{2} - \\vec{\\mathbf{r}}_{1}\n",
    "\\end{equation}\n",
    "\n",
    "\n",
    "The force exerted by each mass can be determined by Newton's law of gravitation.\n",
    "\n",
    "The force $ \\mathnormal{m_2} $ exerts on $ \\mathnormal{m_1} $:\n",
    "\\begin{equation}\n",
    "\\vec{\\mathbf{F}}_{12} = \\frac{\\mathnormal{G}\\mathnormal{m_1}\\mathnormal{m_2}}{|\\vec{\\mathbf{r}}_{21}|^3} \\vec{\\mathbf{r}}_{21}\n",
    "\\end{equation}\n",
    "\n",
    "The force $ \\mathnormal{m_1} $ exerts on $ \\mathnormal{m_2} $:\n",
    "\\begin{equation}\n",
    "\\vec{\\mathbf{F}}_{21} = - \\frac{\\mathnormal{G}\\mathnormal{m_1}\\mathnormal{m_2}}{|\\vec{\\mathbf{r}}_{21}|^3} \\vec{\\mathbf{r}}_{21}\n",
    "\\end{equation}\n",
    "\n",
    "$\\mathnormal{G}$ is Newton's universdal gravitational constant.  \n",
    "\\begin{equation}\n",
    "\\mathnormal{G} = 6.67 \\times 10^{-11}  \\mathrm{m}^3 / (\\mathrm{kg} \\cdot \\mathrm{s}^2)\n",
    "\\end{equation}\n",
    "\n",
    "Applying Newton's second law:\n",
    "\n",
    "$ \\mathnormal{m_1} $:  \n",
    "\\begin{equation}\n",
    "\\mathnormal{m_1} \\ddot{\\vec{\\mathbf{r}}}_{1} = \\vec{\\mathbf{F}}_{12} = \\frac{\\mathnormal{G}\\mathnormal{m_1}\\mathnormal{m_2}}{|\\vec{\\mathbf{r}}_{21}|^3} \\vec{\\mathbf{r}}_{21}\n",
    "\\end{equation}\n",
    "\n",
    "$ \\mathnormal{m_2} $:\n",
    "\\begin{equation}\n",
    "\\mathnormal{m_2} \\ddot{\\vec{\\mathbf{r}}}_{2} = \\vec{\\mathbf{F}}_{21} = - \\frac{\\mathnormal{G}\\mathnormal{m_1}\\mathnormal{m_2}}{|\\vec{\\mathbf{r}}_{21}|^3} \\vec{\\mathbf{r}}_{21}\n",
    "\\end{equation}\n",
    "\n",
    "Yields:\n",
    "\n",
    "\\begin{equation}\n",
    "\\ddot{\\vec{\\mathbf{r}}}_{1} = \\frac{\\mathnormal{G}\\mathnormal{m_2}}{|\\vec{\\mathbf{r}}_{21}|^3} \\vec{\\mathbf{r}}_{21}\n",
    "\\end{equation}\n",
    "\\begin{equation}\n",
    "\\ddot{\\vec{\\mathbf{r}}}_{2} = -\\frac{\\mathnormal{G}\\mathnormal{m_1}}{|\\vec{\\mathbf{r}}_{21}|^3} \\vec{\\mathbf{r}}_{21}\n",
    "\\end{equation}\n",
    "\n",
    "Taking the difference:\n",
    "\\begin{equation}\n",
    "\\ddot{\\vec{\\mathbf{r}}}_{21} = \\ddot{\\vec{\\mathbf{r}}}_{2} - \\ddot{\\vec{\\mathbf{r}}}_{1} = - \\frac{\\mathnormal{G}(\\mathnormal{m_1}+\\mathnormal{m_2})}{|\\vec{\\mathbf{r}}_{21}|^3} \\vec{\\mathbf{r}}_{21}\n",
    "\\end{equation}\n",
    "\n",
    "If $ \\mathnormal{m_2} \\ll \\mathnormal{m_1}$, such as a satellite orbiting the Earth, we can assume $ \\mathnormal{m_1} + \\mathnormal{m_2} \\approx \\mathnormal{m_1} $ and define $ \\mu = \\mathnormal{G}\\mathnormal{m_1} $, where $ \\mathnormal{m_1} $ is the primary body and $ \\mathnormal{m_2} $ is the secondary body.\n",
    "\n",
    "After dropping the subscripts, the relative equations of motion are:\n",
    "\\begin{equation}\n",
    "\\ddot{\\vec{\\mathbf{r}}} = - \\frac{\\mu}{|\\vec{\\mathbf{r}}|^3} \\vec{\\mathbf{r}}\n",
    "\\end{equation}\n",
    "\n",
    "This is a nonlinear second-order differential equation that is only a function of $ \\mathnormal{m_2} $'s position."
   ]
  },
  {
   "cell_type": "markdown",
   "id": "7c5c81b1-a59b-4ee9-ac7b-0ca1872771ed",
   "metadata": {},
   "source": [
    "### Standard Gravitational Parameter\n",
    "\n",
    "Earth, $ \\oplus $:  \n",
    "\\begin{equation}\n",
    "\\mu_{\\oplus} = 3.986 \\times 10^{14}  \\mathrm{m}^3 / \\mathrm{s}^2 \n",
    "\\end{equation}\n",
    "\n",
    "Sun, $ \\odot $:  \n",
    "\\begin{equation}\n",
    "\\mu_{\\odot} = 1.327 \\times 10^{20}  \\mathrm{m}^3 / \\mathrm{s}^2 \n",
    "\\end{equation}\n"
   ]
  },
  {
   "cell_type": "code",
   "execution_count": null,
   "id": "1c9c2782-143e-423b-b7ca-7c2385475da2",
   "metadata": {},
   "outputs": [],
   "source": [
    "try:\n",
    "    from modsim import *\n",
    "except ImportError:\n",
    "    !pip install modsimpy\n",
    "    from modsim import *"
   ]
  },
  {
   "cell_type": "code",
   "execution_count": null,
   "id": "5f61f0d5-5769-4a9f-8e68-13154b372107",
   "metadata": {},
   "outputs": [],
   "source": [
    "import numpy as np\n",
    "from matplotlib.pyplot import plot"
   ]
  },
  {
   "cell_type": "markdown",
   "id": "b464d592-aaac-4141-8cdd-2ab93d087751",
   "metadata": {},
   "source": [
    "### How do we solve differential equations numerically?\n",
    "\n",
    "#### Simple example of projectile motion\n",
    "\n",
    "A lacrosse ball is thrown at an angle $ \\theta $ to the horizontal at a speed of 40.23 m/s.  Determine the path of motion, trajectory, of the ball if $ \\theta $ = 38.0 deg.\n",
    "\n",
    "\\begin{equation}\n",
    "\\vec{\\mathbf{a}} = \\ddot{\\vec{\\mathbf{r}}} = -9.8 \\mathrm{m} / \\mathrm{s}^2 \\hat{\\mathbf{j}}\n",
    "\\end{equation}\n"
   ]
  },
  {
   "cell_type": "code",
   "execution_count": null,
   "id": "9c305f49-97e4-4951-825b-babac78dcb7e",
   "metadata": {},
   "outputs": [],
   "source": [
    "v_mag = 40.23   # m/s\n",
    "theta_deg = 38.0\n",
    "theta = 38.0 * np.pi / 180  # convert degrees to radians, alternatively np.deg2rad(theta)\n",
    "init = State(x=0, y=2.0, vx=v_mag * np.cos(theta), vy=v_mag * np.sin(theta))  # initial conditions"
   ]
  },
  {
   "cell_type": "code",
   "execution_count": null,
   "id": "6df78276-dfad-4d43-8858-cbe5d6cb7b7c",
   "metadata": {},
   "outputs": [],
   "source": [
    "system = System(init=init,\n",
    "                g=9.8,\n",
    "                t_end=10)"
   ]
  },
  {
   "cell_type": "markdown",
   "id": "282b460d-094d-46c8-9aad-feea6af2bb40",
   "metadata": {},
   "source": [
    "`init` and `system` are container variables the hold the initial conditions and system parameters."
   ]
  },
  {
   "cell_type": "markdown",
   "id": "7c22567d-a10b-4897-a9a2-597111eda2e5",
   "metadata": {},
   "source": [
    "Create a function containing the equations of motion for a simple projectile."
   ]
  },
  {
   "cell_type": "code",
   "execution_count": null,
   "id": "6bafb5c7-0521-4fb3-99ec-02ee274f64b9",
   "metadata": {},
   "outputs": [],
   "source": [
    "def eom_projectile(t, state, system):\n",
    "    x, y, vx, vy = state\n",
    "\n",
    "    dxdt = vx\n",
    "    dydt = vy\n",
    "    d2xdt = 0.0\n",
    "    d2ydt = -system.g\n",
    "\n",
    "    return dxdt, dydt, d2xdt, d2ydt\n",
    "    "
   ]
  },
  {
   "cell_type": "code",
   "execution_count": null,
   "id": "9c4a74c3-ecee-40b6-bc73-6b6f94257817",
   "metadata": {},
   "outputs": [],
   "source": [
    "# test the eom with the initial conditions\n",
    "dxdt, dydt, d2xdt, d2ydt = eom_projectile(0.0, system.init, system)\n",
    "dxdt, dydt, d2xdt, d2ydt"
   ]
  },
  {
   "cell_type": "code",
   "execution_count": null,
   "id": "0b1d97b2-7b92-475f-bea8-b1c2bd4e6ea8",
   "metadata": {},
   "outputs": [],
   "source": [
    "results, details = run_solve_ivp(system, eom_projectile)\n",
    "details.message"
   ]
  },
  {
   "cell_type": "code",
   "execution_count": null,
   "id": "48ecf4cc-09a2-4140-ba73-6b650c103b0c",
   "metadata": {},
   "outputs": [],
   "source": [
    "results.y.plot()\n",
    "\n",
    "decorate(xlabel='Time (s)', ylabel='Height (m)')"
   ]
  },
  {
   "cell_type": "code",
   "execution_count": null,
   "id": "684c2519-1644-403d-91c3-64ac1c6a015e",
   "metadata": {},
   "outputs": [],
   "source": [
    "plot(results.x, results.y, label=f'{theta_deg} degrees', color='C2')\n",
    "\n",
    "decorate(xlabel='range (m)', ylabel='height (m)', title='Lacrosse Ball Projectile')"
   ]
  },
  {
   "cell_type": "code",
   "execution_count": null,
   "id": "aa81c94f-cec1-459f-89d5-d28c77d60bff",
   "metadata": {},
   "outputs": [],
   "source": [
    "def event_func(t, state, system):\n",
    "    x, y, vx, vy = state\n",
    "\n",
    "    return y"
   ]
  },
  {
   "cell_type": "code",
   "execution_count": null,
   "id": "3aebde5c-ad56-47ef-8a95-246a165af322",
   "metadata": {},
   "outputs": [],
   "source": [
    "results, details = run_solve_ivp(system, eom_projectile, events=event_func)\n",
    "details.message"
   ]
  },
  {
   "cell_type": "code",
   "execution_count": null,
   "id": "747329a9-0657-4932-a49c-dc6c7b62b058",
   "metadata": {},
   "outputs": [],
   "source": [
    "results.iloc[-1]"
   ]
  },
  {
   "cell_type": "code",
   "execution_count": null,
   "id": "aaeafcd3-f0f1-4a8c-bf81-43f80795b2d4",
   "metadata": {},
   "outputs": [],
   "source": [
    "results.head()"
   ]
  },
  {
   "cell_type": "code",
   "execution_count": null,
   "id": "74232fda-ace2-4064-a738-b531629eb50d",
   "metadata": {},
   "outputs": [],
   "source": [
    "results.tail()"
   ]
  },
  {
   "cell_type": "code",
   "execution_count": null,
   "id": "cbcec052-d0b8-4c97-b813-17607b07327a",
   "metadata": {},
   "outputs": [],
   "source": []
  },
  {
   "cell_type": "code",
   "execution_count": null,
   "id": "40d420e0-3a5f-47f7-8265-6922adc05110",
   "metadata": {},
   "outputs": [],
   "source": []
  },
  {
   "cell_type": "code",
   "execution_count": null,
   "id": "0f63c348-641d-4bd0-bb46-2e20b14f3c1c",
   "metadata": {},
   "outputs": [],
   "source": []
  },
  {
   "cell_type": "code",
   "execution_count": null,
   "id": "fb044e87-25df-4396-b50a-60b47cdd8aed",
   "metadata": {},
   "outputs": [],
   "source": []
  },
  {
   "cell_type": "code",
   "execution_count": null,
   "id": "e51f4e02-8a34-4ca8-8176-525f48f3c957",
   "metadata": {},
   "outputs": [],
   "source": [
    "system = System(mu=3.986000e+14, dt=)"
   ]
  },
  {
   "cell_type": "code",
   "execution_count": null,
   "id": "edaf7e79-141e-46c0-9410-945b45b70e86",
   "metadata": {},
   "outputs": [],
   "source": [
    "# Write a function for the equations of motion\n",
    "def eom_twobodies(t, state, system):\n",
    "    x, y, z, v_x, v_y, v_z = state\n",
    "    mu = system.mu\n",
    "\n",
    "    r = np.sqrt( x**2 + y**2 + z**2 )\n",
    "    x_dot = v_x\n",
    "    y_dot = v_y\n",
    "    z_dot = v_z\n",
    "    x_dotdot = -mu / r**3 * x\n",
    "    y_dotdot = -mu / r**3 * y\n",
    "    z_dotdot = -mu / r**3 * z\n",
    "\n",
    "    return \n",
    "    \n",
    "    "
   ]
  },
  {
   "cell_type": "code",
   "execution_count": null,
   "id": "86c25a1f-6f2f-465a-9196-377fa7056f78",
   "metadata": {},
   "outputs": [],
   "source": []
  },
  {
   "cell_type": "code",
   "execution_count": null,
   "id": "45c0f9b1-9463-4922-87ed-1c87514ca788",
   "metadata": {},
   "outputs": [],
   "source": []
  },
  {
   "cell_type": "code",
   "execution_count": null,
   "id": "931db591-2660-42bb-a3d9-e3fbb7e14553",
   "metadata": {},
   "outputs": [],
   "source": []
  },
  {
   "cell_type": "code",
   "execution_count": null,
   "id": "c956e70a-15f1-4d89-8ec6-3b2fa7f55c3b",
   "metadata": {},
   "outputs": [],
   "source": []
  }
 ],
 "metadata": {
  "kernelspec": {
   "display_name": "Python 3 (ipykernel)",
   "language": "python",
   "name": "python3"
  },
  "language_info": {
   "codemirror_mode": {
    "name": "ipython",
    "version": 3
   },
   "file_extension": ".py",
   "mimetype": "text/x-python",
   "name": "python",
   "nbconvert_exporter": "python",
   "pygments_lexer": "ipython3",
   "version": "3.11.5"
  }
 },
 "nbformat": 4,
 "nbformat_minor": 5
}
