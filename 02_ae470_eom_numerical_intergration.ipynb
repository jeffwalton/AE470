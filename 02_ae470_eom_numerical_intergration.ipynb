{
 "cells": [
  {
   "cell_type": "code",
   "execution_count": null,
   "id": "29145381-3e4e-4856-95be-9754812c6b58",
   "metadata": {},
   "outputs": [],
   "source": [
    "# Configure Jupyter so figures appear in the notebook\n",
    "%matplotlib inline\n",
    "\n",
    "# Configure Jupyter to display the assigned value after an assignment\n",
    "%config InteractiveShell.ast_node_interactivity='last_expr_or_assign'"
   ]
  },
  {
   "cell_type": "markdown",
   "id": "57ebdd10-e6d1-495e-b52c-30ffce5f593c",
   "metadata": {},
   "source": [
    "# Equations of Motion and Numerical Integration\n",
    "\n",
    "## Equations of Motion\n",
    "\n",
    "Consider two point masses, $ \\mathnormal{m_1} $ and $ \\mathnormal{m_2} $\n",
    "  \n",
    "![two-body problem inertial frame](images/tbp_inertial_pointmasses.png)\n",
    "\n",
    "$ \\mathcal{F}_I $ is an inertial frame.  An inertial frame is a coordinate frame where Newton's Laws apply.\n",
    "\n",
    "$ \\vec{\\mathbf{r}}_1 $ is the position vector of mass $ \\mathnormal{m_1} $. \n",
    "\n",
    "$ \\vec{\\mathbf{r}}_2 $ is the position vector of mass $ \\mathnormal{m_2} $. \n",
    "\n",
    "$ \\vec{\\mathbf{r}}_{21} $ is the position vector of mass $ \\mathnormal{m_2} $ with relative to $ \\mathnormal{m_1} $.\n",
    "\\begin{equation}\n",
    "\\vec{\\mathbf{r}}_{21} = \\vec{\\mathbf{r}}_{2} - \\vec{\\mathbf{r}}_{1}\n",
    "\\end{equation}\n",
    "\n",
    "\n",
    "The force exerted by each mass can be determined by Newton's law of gravitation.\n",
    "\n",
    "The force $ \\mathnormal{m_2} $ exerts on $ \\mathnormal{m_1} $:\n",
    "\\begin{equation}\n",
    "\\vec{\\mathbf{F}}_{12} = \\frac{\\mathnormal{G}\\mathnormal{m_1}\\mathnormal{m_2}}{|\\vec{\\mathbf{r}}_{21}|^3} \\vec{\\mathbf{r}}_{21}\n",
    "\\end{equation}\n",
    "\n",
    "The force $ \\mathnormal{m_1} $ exerts on $ \\mathnormal{m_2} $:\n",
    "\\begin{equation}\n",
    "\\vec{\\mathbf{F}}_{21} = - \\frac{\\mathnormal{G}\\mathnormal{m_1}\\mathnormal{m_2}}{|\\vec{\\mathbf{r}}_{21}|^3} \\vec{\\mathbf{r}}_{21}\n",
    "\\end{equation}\n",
    "\n",
    "$\\mathnormal{G}$ is Newton's universdal gravitational constant.  \n",
    "\\begin{equation}\n",
    "\\mathnormal{G} = 6.67 \\times 10^{-11}  \\mathrm{m}^3 / (\\mathrm{kg} \\cdot \\mathrm{s}^2)\n",
    "\\end{equation}\n",
    "\n",
    "Applying Newton's second law:\n",
    "\n",
    "$ \\mathnormal{m_1} $:  \n",
    "\\begin{equation}\n",
    "\\mathnormal{m_1} \\ddot{\\vec{\\mathbf{r}}}_{1} = \\vec{\\mathbf{F}}_{12} = \\frac{\\mathnormal{G}\\mathnormal{m_1}\\mathnormal{m_2}}{|\\vec{\\mathbf{r}}_{21}|^3} \\vec{\\mathbf{r}}_{21}\n",
    "\\end{equation}\n",
    "\n",
    "$ \\mathnormal{m_2} $:\n",
    "\\begin{equation}\n",
    "\\mathnormal{m_2} \\ddot{\\vec{\\mathbf{r}}}_{2} = \\vec{\\mathbf{F}}_{21} = - \\frac{\\mathnormal{G}\\mathnormal{m_1}\\mathnormal{m_2}}{|\\vec{\\mathbf{r}}_{21}|^3} \\vec{\\mathbf{r}}_{21}\n",
    "\\end{equation}\n",
    "\n",
    "Yields:\n",
    "\n",
    "\\begin{equation}\n",
    "\\ddot{\\vec{\\mathbf{r}}}_{1} = \\frac{\\mathnormal{G}\\mathnormal{m_2}}{|\\vec{\\mathbf{r}}_{21}|^3} \\vec{\\mathbf{r}}_{21}\n",
    "\\end{equation}\n",
    "\\begin{equation}\n",
    "\\ddot{\\vec{\\mathbf{r}}}_{2} = -\\frac{\\mathnormal{G}\\mathnormal{m_1}}{|\\vec{\\mathbf{r}}_{21}|^3} \\vec{\\mathbf{r}}_{21}\n",
    "\\end{equation}\n",
    "\n",
    "Taking the difference:\n",
    "\\begin{equation}\n",
    "\\ddot{\\vec{\\mathbf{r}}}_{21} = \\ddot{\\vec{\\mathbf{r}}}_{2} - \\ddot{\\vec{\\mathbf{r}}}_{1} = - \\frac{\\mathnormal{G}(\\mathnormal{m_1}+\\mathnormal{m_2})}{|\\vec{\\mathbf{r}}_{21}|^3} \\vec{\\mathbf{r}}_{21}\n",
    "\\end{equation}\n",
    "\n",
    "If $ \\mathnormal{m_2} \\ll \\mathnormal{m_1}$, such as a satellite orbiting the Earth, we can assume $ \\mathnormal{m_1} + \\mathnormal{m_2} \\approx \\mathnormal{m_1} $ and define $ \\mu = \\mathnormal{G}\\mathnormal{m_1} $, where $ \\mathnormal{m_1} $ is the primary body and $ \\mathnormal{m_2} $ is the secondary body.\n",
    "\n",
    "After dropping the subscripts, the relative equations of motion are:\n",
    "\\begin{equation}\n",
    "\\ddot{\\vec{\\mathbf{r}}} = - \\frac{\\mu}{|\\vec{\\mathbf{r}}|^3} \\vec{\\mathbf{r}}\n",
    "\\end{equation}\n"
   ]
  },
  {
   "cell_type": "markdown",
   "id": "7c5c81b1-a59b-4ee9-ac7b-0ca1872771ed",
   "metadata": {},
   "source": [
    "### Standard Gravitational Parameter\n",
    "\n",
    "Earth, $ \\oplus $:  \n",
    "\\begin{equation}\n",
    "\\mu_{\\oplus} = 3.986 \\times 10^{14}  \\mathrm{m}^3 / \\mathrm{s}^2 \n",
    "\\end{equation}\n",
    "\n",
    "Sun, $ \\odot $:  \n",
    "\\begin{equation}\n",
    "\\mu_{\\odot} = 1.327 \\times 10^{20}  \\mathrm{m}^3 / \\mathrm{s}^2 \n",
    "\\end{equation}\n"
   ]
  },
  {
   "cell_type": "code",
   "execution_count": null,
   "id": "edaf7e79-141e-46c0-9410-945b45b70e86",
   "metadata": {},
   "outputs": [],
   "source": []
  },
  {
   "cell_type": "code",
   "execution_count": null,
   "id": "86c25a1f-6f2f-465a-9196-377fa7056f78",
   "metadata": {},
   "outputs": [],
   "source": []
  },
  {
   "cell_type": "code",
   "execution_count": null,
   "id": "45c0f9b1-9463-4922-87ed-1c87514ca788",
   "metadata": {},
   "outputs": [],
   "source": []
  },
  {
   "cell_type": "code",
   "execution_count": null,
   "id": "1c9c2782-143e-423b-b7ca-7c2385475da2",
   "metadata": {},
   "outputs": [],
   "source": [
    "try:\n",
    "    from modsim import *\n",
    "except ImportError:\n",
    "    !pip install modsimpy\n",
    "    from modsim import *"
   ]
  },
  {
   "cell_type": "code",
   "execution_count": null,
   "id": "931db591-2660-42bb-a3d9-e3fbb7e14553",
   "metadata": {},
   "outputs": [],
   "source": []
  },
  {
   "cell_type": "code",
   "execution_count": null,
   "id": "c956e70a-15f1-4d89-8ec6-3b2fa7f55c3b",
   "metadata": {},
   "outputs": [],
   "source": []
  }
 ],
 "metadata": {
  "kernelspec": {
   "display_name": "Python 3 (ipykernel)",
   "language": "python",
   "name": "python3"
  },
  "language_info": {
   "codemirror_mode": {
    "name": "ipython",
    "version": 3
   },
   "file_extension": ".py",
   "mimetype": "text/x-python",
   "name": "python",
   "nbconvert_exporter": "python",
   "pygments_lexer": "ipython3",
   "version": "3.11.5"
  }
 },
 "nbformat": 4,
 "nbformat_minor": 5
}
