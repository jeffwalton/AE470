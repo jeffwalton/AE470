{
 "cells": [
  {
   "cell_type": "code",
   "execution_count": null,
   "id": "29145381-3e4e-4856-95be-9754812c6b58",
   "metadata": {},
   "outputs": [],
   "source": [
    "# Configure Jupyter to display the assigned value after an assignment\n",
    "%config InteractiveShell.ast_node_interactivity='last_expr_or_assign'"
   ]
  },
  {
   "cell_type": "markdown",
   "id": "57ebdd10-e6d1-495e-b52c-30ffce5f593c",
   "metadata": {},
   "source": [
    "# Equations of Motion and Numerical Integration\n",
    "\n",
    "## Equations of Motion\n",
    "\n",
    "![two-body problem inertial frame](/images/tbp_inertial_pointmasses.png)\n"
   ]
  },
  {
   "cell_type": "code",
   "execution_count": null,
   "id": "c7498896-c6e6-435e-9199-06be183bb8c0",
   "metadata": {},
   "outputs": [],
   "source": []
  },
  {
   "cell_type": "code",
   "execution_count": null,
   "id": "1c9c2782-143e-423b-b7ca-7c2385475da2",
   "metadata": {},
   "outputs": [],
   "source": []
  },
  {
   "cell_type": "code",
   "execution_count": null,
   "id": "931db591-2660-42bb-a3d9-e3fbb7e14553",
   "metadata": {},
   "outputs": [],
   "source": []
  },
  {
   "cell_type": "code",
   "execution_count": null,
   "id": "c956e70a-15f1-4d89-8ec6-3b2fa7f55c3b",
   "metadata": {},
   "outputs": [],
   "source": []
  }
 ],
 "metadata": {
  "kernelspec": {
   "display_name": "Python 3 (ipykernel)",
   "language": "python",
   "name": "python3"
  },
  "language_info": {
   "codemirror_mode": {
    "name": "ipython",
    "version": 3
   },
   "file_extension": ".py",
   "mimetype": "text/x-python",
   "name": "python",
   "nbconvert_exporter": "python",
   "pygments_lexer": "ipython3",
   "version": "3.11.5"
  }
 },
 "nbformat": 4,
 "nbformat_minor": 5
}
