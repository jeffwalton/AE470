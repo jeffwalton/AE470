{
 "cells": [
  {
   "cell_type": "code",
   "execution_count": 1,
   "id": "c5bd37af-1fe7-4d2b-acc9-e95de21d71b0",
   "metadata": {},
   "outputs": [],
   "source": [
    "# Configure Jupyter so figures appear in the notebook\n",
    "%matplotlib inline\n",
    "\n",
    "# Configure Jupyter to display the assigned value after an assignment\n",
    "%config InteractiveShell.ast_node_interactivity='last_expr_or_assign'\n",
    "\n",
    "import numpy as np"
   ]
  },
  {
   "cell_type": "markdown",
   "id": "60fcd620-757d-4529-895a-bebe9b14cfea",
   "metadata": {},
   "source": [
    "## Example 1\n",
    "\n",
    "Elon Musk plans to have SpaceX’s Starship travel to Mars on an uncrewed mission in 2024. In your interview with\n",
    "SpaceX, Musk asks you to estimate the following in days: \n",
    "\n",
    "1. the transfer time from Earth to Mars,\n",
    "2. the time required for an Earth-Mars round trip, and\n",
    "3. approximately how long will they have to wait for the next launch window if they miss the 2024 launch?\n",
    "\n",
    "Assume you are using an interplanetary Hohmann transfer and that the planetary orbits are circular."
   ]
  },
  {
   "cell_type": "code",
   "execution_count": 6,
   "id": "a969cf51-0959-4803-9d5c-31ebb26b76d4",
   "metadata": {},
   "outputs": [
    {
     "data": {
      "text/plain": [
       "132700000000.0"
      ]
     },
     "execution_count": 6,
     "metadata": {},
     "output_type": "execute_result"
    }
   ],
   "source": [
    "r_Earth = 149.6e6 # km\n",
    "r_Mars = 227.9e6 # km\n",
    "mu_Sun = 132.7e9 # km^3/s^2"
   ]
  },
  {
   "cell_type": "code",
   "execution_count": 43,
   "id": "1c004bb5-38f2-4ba1-b82b-ea8100d58522",
   "metadata": {},
   "outputs": [
    {
     "name": "stdout",
     "output_type": "stream",
     "text": [
      "a_t=1.888E+08\n",
      "TOF_12=22363761.5 s\n",
      "TOF_12/60/60/24=258.84 days\n"
     ]
    }
   ],
   "source": [
    "a_t = (r_Earth + r_Mars)/2\n",
    "print(f\"{a_t=:.3E}\")\n",
    "\n",
    "TOF_12 = np.pi * np.sqrt( a_t**3/mu_Sun)\n",
    "print(f\"{TOF_12=:.1f} s\")\n",
    "print(f\"{TOF_12/60/60/24=:.2f} days\")\n"
   ]
  },
  {
   "cell_type": "code",
   "execution_count": 14,
   "id": "3d59ec8b-7ce1-43b5-a8bf-d3942ead1d5a",
   "metadata": {},
   "outputs": [
    {
     "data": {
      "text/plain": [
       "1.9908478531189116e-07"
      ]
     },
     "execution_count": 14,
     "metadata": {},
     "output_type": "execute_result"
    }
   ],
   "source": [
    "n_E = np.sqrt(mu_Sun/r_Earth**3)"
   ]
  },
  {
   "cell_type": "code",
   "execution_count": 15,
   "id": "e93ccab4-40b1-4e07-8425-69b7dc02c0ba",
   "metadata": {},
   "outputs": [
    {
     "data": {
      "text/plain": [
       "1.058812289992724e-07"
      ]
     },
     "execution_count": 15,
     "metadata": {},
     "output_type": "execute_result"
    }
   ],
   "source": [
    "n_M = np.sqrt(mu_Sun/r_Mars**3)"
   ]
  },
  {
   "cell_type": "code",
   "execution_count": 16,
   "id": "6f857426-0ff7-4ec5-8f31-97698461c23b",
   "metadata": {},
   "outputs": [
    {
     "data": {
      "text/plain": [
       "-1.3106920000032076"
      ]
     },
     "execution_count": 16,
     "metadata": {},
     "output_type": "execute_result"
    }
   ],
   "source": [
    "phi_arr = np.pi - n_E*TOF_12"
   ]
  },
  {
   "cell_type": "code",
   "execution_count": 34,
   "id": "93cc2ba8-f94e-4ce4-9b29-7eb65febdfa4",
   "metadata": {},
   "outputs": [
    {
     "data": {
      "text/plain": [
       "-1"
      ]
     },
     "execution_count": 34,
     "metadata": {},
     "output_type": "execute_result"
    }
   ],
   "source": [
    "N = -1"
   ]
  },
  {
   "cell_type": "code",
   "execution_count": 35,
   "id": "8ba7a6e8-bb36-4f15-ac67-df6b0d34e691",
   "metadata": {},
   "outputs": [
    {
     "data": {
      "text/plain": [
       "2.6213840000064152"
      ]
     },
     "execution_count": 35,
     "metadata": {},
     "output_type": "execute_result"
    }
   ],
   "source": [
    "-2*phi_arr"
   ]
  },
  {
   "cell_type": "code",
   "execution_count": 36,
   "id": "b1d49e9f-6598-4bdb-9add-3cd789c8ea22",
   "metadata": {},
   "outputs": [
    {
     "data": {
      "text/plain": [
       "39288214.44206419"
      ]
     },
     "execution_count": 36,
     "metadata": {},
     "output_type": "execute_result"
    }
   ],
   "source": [
    "T_wait = (-2*phi_arr + N*2*np.pi) / (n_M - n_E)"
   ]
  },
  {
   "cell_type": "code",
   "execution_count": 37,
   "id": "79729e72-8b2f-4bdf-867c-4b42ce72e34d",
   "metadata": {},
   "outputs": [
    {
     "data": {
      "text/plain": [
       "84015737.40789948"
      ]
     },
     "execution_count": 37,
     "metadata": {},
     "output_type": "execute_result"
    }
   ],
   "source": [
    "T_trip = T_wait + 2*TOF_12"
   ]
  },
  {
   "cell_type": "code",
   "execution_count": 39,
   "id": "08243004-bcbc-48e9-b310-d5ed2c427520",
   "metadata": {},
   "outputs": [
    {
     "name": "stdout",
     "output_type": "stream",
     "text": [
      "T_trip/60/60/24=972.40 days\n"
     ]
    }
   ],
   "source": [
    "print(f\"{T_trip/60/60/24=:.2f} days\")"
   ]
  },
  {
   "cell_type": "code",
   "execution_count": 41,
   "id": "2250e6ae-1f3a-4bef-a347-e2bfd023334b",
   "metadata": {},
   "outputs": [
    {
     "data": {
      "text/plain": [
       "67413579.0066297"
      ]
     },
     "execution_count": 41,
     "metadata": {},
     "output_type": "execute_result"
    }
   ],
   "source": [
    "# Time between launch windows, synodic period\n",
    "\n",
    "T_syn = 2*np.pi/np.abs(n_M - n_E)\n"
   ]
  },
  {
   "cell_type": "code",
   "execution_count": 42,
   "id": "164ad227-4c6f-47df-86dc-a6ad61049a3b",
   "metadata": {},
   "outputs": [
    {
     "name": "stdout",
     "output_type": "stream",
     "text": [
      "T_syn/60/60/24=780.25 days\n"
     ]
    }
   ],
   "source": [
    "print(f\"{T_syn/60/60/24=:.2f} days\")"
   ]
  },
  {
   "cell_type": "code",
   "execution_count": null,
   "id": "161974c9-07ec-4253-ae77-02afedb4d5f5",
   "metadata": {},
   "outputs": [],
   "source": []
  },
  {
   "cell_type": "markdown",
   "id": "fe42ffb1-0b70-46ec-8fa1-41c602066f26",
   "metadata": {},
   "source": [
    "## Example 2\n",
    "\n",
    "As part of a preliminary study for an exploration trip to Mars, it has been decided that a Hohmann transfer will be used to travel from the Earth to Mars. You may assume that the orbits of the Earth and Mars are circular and lie in the same plane. The spacecraft is initially in a circular parking orbit around the Earth of radius $ r_{park} $ = 100,000 km. It is desired to place the spacecraft in a circular orbit around Mars of radius $ r_{cap} $ = 50,000 km."
   ]
  },
  {
   "cell_type": "code",
   "execution_count": null,
   "id": "75185f1f-3201-4a70-9263-393c28bc544a",
   "metadata": {},
   "outputs": [],
   "source": [
    "r_Earth = 149.6e6 # km\n",
    "r_Mars = 227.9e6 # km\n",
    "mu_Sun = 132.7e9 # km^3/s^2\n",
    "mu_Earth = 3.986e5 # km^3/s^2\n",
    "mu_Mars = 4.305e4 # km^3/s^2"
   ]
  },
  {
   "cell_type": "markdown",
   "id": "38c53099-373b-49bc-9219-a0062446ff8d",
   "metadata": {},
   "source": [
    "##### Compute the semi-major axis of the Hohmann transfer orbit."
   ]
  },
  {
   "cell_type": "code",
   "execution_count": null,
   "id": "3af59469-ba2b-46dc-8a3f-270a5a357589",
   "metadata": {},
   "outputs": [],
   "source": [
    "a_t = (r_Earth + r_Mars)/2\n",
    "print(f\"{a_t=:.3E}\")"
   ]
  },
  {
   "cell_type": "markdown",
   "id": "4196dc1a-545e-4aa7-9f21-9370fd806d62",
   "metadata": {},
   "source": [
    "##### Compute the time-of-flight for the Hohmann transfer orbit."
   ]
  },
  {
   "cell_type": "code",
   "execution_count": null,
   "id": "7b098271-c7cb-4145-95af-4a8f192b0975",
   "metadata": {},
   "outputs": [],
   "source": [
    "TOF_12 = np.pi * np.sqrt( a_t**3/mu_Sun)\n",
    "print(f\"{TOF_12=:.1f} s\")\n",
    "print(f\"{TOF_12/60/60/24=:.2f} days\")"
   ]
  },
  {
   "cell_type": "markdown",
   "id": "1982f0cc-ec0d-44e0-9c7f-d5156204b599",
   "metadata": {},
   "source": [
    "##### Assuming that the Earth, Mars the Sun lie on the same line at 𝑡 = 0, with Earth and Mars on opposite sides of the Sun, compute the time 𝑡 in days of the required departure from Earth."
   ]
  },
  {
   "cell_type": "code",
   "execution_count": null,
   "id": "7e0461e8-cf69-4dee-b244-44528aff19ff",
   "metadata": {},
   "outputs": [],
   "source": []
  },
  {
   "cell_type": "code",
   "execution_count": null,
   "id": "2f72acb3-81f3-4ef6-ad81-ca056e016e37",
   "metadata": {},
   "outputs": [],
   "source": []
  },
  {
   "cell_type": "code",
   "execution_count": null,
   "id": "4841982e-9ec1-4684-afb6-5c9f1b28f1b4",
   "metadata": {},
   "outputs": [],
   "source": []
  },
  {
   "cell_type": "code",
   "execution_count": null,
   "id": "a21a759d-30f5-4e18-b9a7-5f61328adaa2",
   "metadata": {},
   "outputs": [],
   "source": []
  }
 ],
 "metadata": {
  "kernelspec": {
   "display_name": "Python 3 (ipykernel)",
   "language": "python",
   "name": "python3"
  },
  "language_info": {
   "codemirror_mode": {
    "name": "ipython",
    "version": 3
   },
   "file_extension": ".py",
   "mimetype": "text/x-python",
   "name": "python",
   "nbconvert_exporter": "python",
   "pygments_lexer": "ipython3",
   "version": "3.11.5"
  }
 },
 "nbformat": 4,
 "nbformat_minor": 5
}
