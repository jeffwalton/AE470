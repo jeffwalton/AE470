{
 "cells": [
  {
   "cell_type": "markdown",
   "id": "3d32ef79-8c37-48a5-a61b-4248b5d19840",
   "metadata": {},
   "source": [
    "# Project 03 -- Take-Home Test\n",
    "\n",
    "## Due Thursday, March 7, 2024, 12:00 noon\n",
    "\n",
    "1. Write a small python function to propagate two-body orbits using Kepler's equation (not numerical integration).\n",
    "2. Apply this function to the satellite of your choosing by obtaining a current TLE for that satellite.\n",
    "3. Create a ground track for that satellite for two orbit periods.\n",
    "4. Make a sky plot for that satellite to observe it from the Clarkson campus (Potsdam, NY).\n",
    "\n",
    "You can confer with each other, but please submit you own work.  \n"
   ]
  },
  {
   "cell_type": "code",
   "execution_count": null,
   "id": "7052c0d6-b8d8-4ede-bbd9-90d2cfa0330b",
   "metadata": {},
   "outputs": [],
   "source": []
  },
  {
   "cell_type": "code",
   "execution_count": null,
   "id": "fa252938-7953-4084-8736-76cc136ff3a7",
   "metadata": {},
   "outputs": [],
   "source": []
  }
 ],
 "metadata": {
  "kernelspec": {
   "display_name": "Python 3 (ipykernel)",
   "language": "python",
   "name": "python3"
  },
  "language_info": {
   "codemirror_mode": {
    "name": "ipython",
    "version": 3
   },
   "file_extension": ".py",
   "mimetype": "text/x-python",
   "name": "python",
   "nbconvert_exporter": "python",
   "pygments_lexer": "ipython3",
   "version": "3.11.5"
  }
 },
 "nbformat": 4,
 "nbformat_minor": 5
}
