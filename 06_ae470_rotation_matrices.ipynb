{
 "cells": [
  {
   "cell_type": "code",
   "execution_count": 1,
   "id": "c5bd37af-1fe7-4d2b-acc9-e95de21d71b0",
   "metadata": {},
   "outputs": [],
   "source": [
    "# Configure Jupyter so figures appear in the notebook\n",
    "%matplotlib inline\n",
    "\n",
    "# Configure Jupyter to display the assigned value after an assignment\n",
    "%config InteractiveShell.ast_node_interactivity='last_expr_or_assign'"
   ]
  },
  {
   "cell_type": "code",
   "execution_count": null,
   "id": "9f887208-fa7a-450c-8eb6-c8591aff148c",
   "metadata": {},
   "outputs": [],
   "source": [
    "# import modsim and install if necessary\n",
    "try:\n",
    "    from modsim import *\n",
    "except ImportError:\n",
    "    print(\"Download modsim from the course repository at https://github.com/jeffwalton/AE470\")"
   ]
  },
  {
   "cell_type": "markdown",
   "id": "4bc52278-fc06-4ae9-b720-2a4fd8ccdb42",
   "metadata": {},
   "source": [
    "# Rotation Matrices\n"
   ]
  },
  {
   "cell_type": "markdown",
   "id": "50e75236-80f5-457f-b8e7-80f9f694cb04",
   "metadata": {},
   "source": [
    "## Exercises"
   ]
  },
  {
   "cell_type": "markdown",
   "id": "7e2ebcfb-fb57-4334-bb30-d7937f8fcab6",
   "metadata": {},
   "source": [
    "### 1.  Curtis, Example 4.7, page 211\n",
    "$ \\Omega = 40^{\\circ} $, $ i = 30^{\\circ} $, $ \\omega = 60^{\\circ} $\n",
    "\n",
    "Calculate the 3-1-3 rotation matrix with the angles $ \\Omega, i, \\omega $.\n",
    "\n",
    "Check that the matrix is orthogonal.\n",
    "\n",
    "Apply the rotation matrix to a position vector, $ \\vec{\\mathbf{r}} = 6285.0 \\hat{\\mathbf{i}} + 3628.6 \\hat{\\mathbf{j}} + 0 \\hat{\\mathbf{k}} $ km.\n",
    "\n",
    "Answer: $ \\vec{\\mathbf{r}} = -4040 \\hat{\\mathbf{i}} + 4815 \\hat{\\mathbf{j}} + 3629 \\hat{\\mathbf{k}} $ km"
   ]
  },
  {
   "cell_type": "code",
   "execution_count": null,
   "id": "44d3071f-d1f6-4e64-8ff4-7146c51e059f",
   "metadata": {},
   "outputs": [],
   "source": []
  },
  {
   "cell_type": "code",
   "execution_count": null,
   "id": "7a2c1c3c-37dc-45d1-8732-8d671172c977",
   "metadata": {},
   "outputs": [],
   "source": []
  },
  {
   "cell_type": "markdown",
   "id": "5cdd63f4-99be-4406-8919-4d539e9301f6",
   "metadata": {},
   "source": [
    "### 2. Curtis, Problem 4.18\n",
    "$ \\Omega = 75^{\\circ} $, $ i = 50^{\\circ} $, $ \\omega = 80^{\\circ} $\n",
    "\n",
    "Calculate the 3-1-3 rotation matrix with the angles $ \\Omega, i, \\omega $.\n",
    "\n",
    "Apply the rotation matrix to a position vector, $ \\vec{\\mathbf{r}} = 6578 \\hat{\\mathbf{i}} + 0 \\hat{\\mathbf{j}} + 0 \\hat{\\mathbf{k}} $ km.\n",
    "\n",
    "Answer: $ \\vec{\\mathbf{r}} = -3726 \\hat{\\mathbf{i}} + 2181 \\hat{\\mathbf{j}} + 4962 \\hat{\\mathbf{k}} $ km"
   ]
  },
  {
   "cell_type": "code",
   "execution_count": null,
   "id": "01dcefdd-186a-452e-a81f-503240a12b44",
   "metadata": {},
   "outputs": [],
   "source": []
  },
  {
   "cell_type": "code",
   "execution_count": null,
   "id": "b22fd556-b032-4ea0-b8af-5d3f4afe688f",
   "metadata": {},
   "outputs": [],
   "source": []
  },
  {
   "cell_type": "code",
   "execution_count": null,
   "id": "eb2c8f30-b385-498e-aed7-507ab30e94ee",
   "metadata": {},
   "outputs": [],
   "source": []
  }
 ],
 "metadata": {
  "kernelspec": {
   "display_name": "Python 3 (ipykernel)",
   "language": "python",
   "name": "python3"
  },
  "language_info": {
   "codemirror_mode": {
    "name": "ipython",
    "version": 3
   },
   "file_extension": ".py",
   "mimetype": "text/x-python",
   "name": "python",
   "nbconvert_exporter": "python",
   "pygments_lexer": "ipython3",
   "version": "3.11.5"
  }
 },
 "nbformat": 4,
 "nbformat_minor": 5
}
