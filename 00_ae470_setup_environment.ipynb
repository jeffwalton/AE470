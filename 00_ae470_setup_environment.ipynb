{
 "cells": [
  {
   "cell_type": "markdown",
   "id": "559b1989-2713-46ba-af5a-425a8ce68af2",
   "metadata": {},
   "source": [
    "# Setting Up the Environment\n",
    "## Install Anaconda Python (or use Clarkson's anaconda3 in appsAnyWhere)\n",
    "1. Download Anaconda installer from [www.anaconda.com/download](https://www.anaconda.com/download)\n",
    "2. Open Anaconda Prompt and create a virtual environment by typing\n",
    "  - `conda create -n ae470 python=3.11 numpy pandas scipy jupyter matplotlib`\n",
    "  - `conda activate ae470`\n",
    "  - `jupyter notebook`\n",
    "3. Navigate to working directory and open Jupyter notebook with prerequisite material."
   ]
  },
  {
   "cell_type": "code",
   "execution_count": 1,
   "id": "562da349-1ba1-40f8-a8ee-4c91d799c0fe",
   "metadata": {},
   "outputs": [
    {
     "name": "stdout",
     "output_type": "stream",
     "text": [
      "Python 3.11.5\n"
     ]
    }
   ],
   "source": [
    "!python --version"
   ]
  },
  {
   "cell_type": "code",
   "execution_count": 2,
   "id": "d42f373b-8552-4885-a499-4c9e46a42485",
   "metadata": {},
   "outputs": [
    {
     "name": "stdout",
     "output_type": "stream",
     "text": [
      "7.0.6\n"
     ]
    }
   ],
   "source": [
    "!jupyter-notebook --version"
   ]
  },
  {
   "cell_type": "code",
   "execution_count": null,
   "id": "907c4237-b0ba-47cb-903d-518d7b0dd92c",
   "metadata": {},
   "outputs": [],
   "source": []
  }
 ],
 "metadata": {
  "kernelspec": {
   "display_name": "Python 3 (ipykernel)",
   "language": "python",
   "name": "python3"
  },
  "language_info": {
   "codemirror_mode": {
    "name": "ipython",
    "version": 3
   },
   "file_extension": ".py",
   "mimetype": "text/x-python",
   "name": "python",
   "nbconvert_exporter": "python",
   "pygments_lexer": "ipython3",
   "version": "3.11.5"
  }
 },
 "nbformat": 4,
 "nbformat_minor": 5
}
