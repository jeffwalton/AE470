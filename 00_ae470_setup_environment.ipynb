{
 "cells": [
  {
   "cell_type": "markdown",
   "id": "559b1989-2713-46ba-af5a-425a8ce68af2",
   "metadata": {},
   "source": [
    "# Set Up Environment\n",
    "## Install Anaconda Python (or use Clarkson's anaconda3 in appsAnyWhere)\n",
    "1. Download Anaconda installer from [www.anaconda.com/download](https://www.anaconda.com/download)\n",
    "2. Open Anaconda Prompt and type\n",
    "  - `conda create -n ae470 python=3.11 numpy pandas scipy jupyter matplotlib`\n",
    "  - `conda activate ae470`\n",
    "  - `jupyter notebook`\n",
    "3. Navigate to working directory and open Jupyter notebook with prerequisite material."
   ]
  }
 ],
 "metadata": {
  "kernelspec": {
   "display_name": "Python 3 (ipykernel)",
   "language": "python",
   "name": "python3"
  },
  "language_info": {
   "codemirror_mode": {
    "name": "ipython",
    "version": 3
   },
   "file_extension": ".py",
   "mimetype": "text/x-python",
   "name": "python",
   "nbconvert_exporter": "python",
   "pygments_lexer": "ipython3",
   "version": "3.11.5"
  }
 },
 "nbformat": 4,
 "nbformat_minor": 5
}
