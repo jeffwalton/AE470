{
 "cells": [
  {
   "cell_type": "markdown",
   "id": "f237ebfb-715f-4f6d-912a-4547d30b5b6f",
   "metadata": {},
   "source": [
    "# AE 470 - Project 1\n",
    "## Due end of semester (Friday, May 3, 2024 at 12:00 midnight)\n",
    "\n",
    "![project01_1](images/project01_1.png)\n",
    "\n",
    "![project01_2](images/project01_2.png)\n",
    "\n",
    "![project01_3](images/project01_3.png)\n",
    "\n",
    "![project01_4](images/project01_4.png)"
   ]
  },
  {
   "cell_type": "code",
   "execution_count": null,
   "id": "a6fc50e1-6d7d-4354-8665-7ba25f34886d",
   "metadata": {},
   "outputs": [],
   "source": []
  },
  {
   "cell_type": "code",
   "execution_count": null,
   "id": "a40993e5-c2e8-4f96-ba93-abdfc6fe6338",
   "metadata": {},
   "outputs": [],
   "source": []
  },
  {
   "cell_type": "code",
   "execution_count": null,
   "id": "3872d557-dc32-4f99-89aa-3a6805a10e80",
   "metadata": {},
   "outputs": [],
   "source": []
  },
  {
   "cell_type": "code",
   "execution_count": null,
   "id": "967f15d7-4db4-4dcf-99f9-e9e9884b1142",
   "metadata": {},
   "outputs": [],
   "source": []
  },
  {
   "cell_type": "code",
   "execution_count": null,
   "id": "effde973-7c38-4061-98cd-8447593b76cc",
   "metadata": {},
   "outputs": [],
   "source": []
  }
 ],
 "metadata": {
  "kernelspec": {
   "display_name": "Python 3 (ipykernel)",
   "language": "python",
   "name": "python3"
  },
  "language_info": {
   "codemirror_mode": {
    "name": "ipython",
    "version": 3
   },
   "file_extension": ".py",
   "mimetype": "text/x-python",
   "name": "python",
   "nbconvert_exporter": "python",
   "pygments_lexer": "ipython3",
   "version": "3.11.5"
  }
 },
 "nbformat": 4,
 "nbformat_minor": 5
}
